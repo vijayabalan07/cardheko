{
 "cells": [
  {
   "cell_type": "code",
   "execution_count": 39,
   "id": "4237d1ce-cc09-47b3-a80a-6d1bce6f2dc0",
   "metadata": {},
   "outputs": [],
   "source": [
    "import pandas as pd\n",
    "#pd.read_excel('‪C:/Users/Gowtham R/Downloads/kolkata_cars.xlsx')\n",
    "\n",
    "import numpy as np\n",
    "import ast\n",
    "import re\n",
    "import matplotlib.pyplot as plt\n",
    "import seaborn as sns\n",
    "import scipy.stats as stats\n",
    "import pandas as pd"
   ]
  },
  {
   "cell_type": "code",
   "execution_count": 40,
   "id": "87712d25-f284-4a8e-803f-7135a12421c1",
   "metadata": {},
   "outputs": [],
   "source": [
    "df_hyderabad = pd.read_excel(\"C:/Users/Gowtham R/Downloads/hyderabad_cars.xlsx\")\n",
    "df_hyderabad['Location'] = 'Hyderabad'\n",
    "\n",
    "df_bangalore = pd.read_excel(\"C:/Users/Gowtham R/Downloads/bangalore_cars.xlsx\")\n",
    "df_bangalore['Location'] = 'Bangalore'\n",
    "\n",
    "df_chennai = pd.read_excel(\"C:/Users/Gowtham R/Downloads/chennai_cars.xlsx\")\n",
    "df_chennai['Location'] = 'Chennai'\n",
    "\n",
    "df_kolkata = pd.read_excel(\"C:/Users/Gowtham R/Downloads/kolkata_cars.xlsx\")\n",
    "df_kolkata['Location'] = 'Kolkata'\n",
    "\n",
    "df_delhi = pd.read_excel(\"C:/Users/Gowtham R/Downloads/delhi_cars.xlsx\")\n",
    "df_delhi['Location'] = 'Delhi'\n",
    "\n",
    "df_jaipur = pd.read_excel(\"C:/Users/Gowtham R/Downloads/jaipur_cars.xlsx\")\n",
    "df_jaipur['Location'] = 'Jaipur'"
   ]
  },
  {
   "cell_type": "code",
   "execution_count": 41,
   "id": "988e1056-704d-4b59-816d-5edb45ac03d2",
   "metadata": {},
   "outputs": [
    {
     "data": {
      "text/html": [
       "<div>\n",
       "<style scoped>\n",
       "    .dataframe tbody tr th:only-of-type {\n",
       "        vertical-align: middle;\n",
       "    }\n",
       "\n",
       "    .dataframe tbody tr th {\n",
       "        vertical-align: top;\n",
       "    }\n",
       "\n",
       "    .dataframe thead th {\n",
       "        text-align: right;\n",
       "    }\n",
       "</style>\n",
       "<table border=\"1\" class=\"dataframe\">\n",
       "  <thead>\n",
       "    <tr style=\"text-align: right;\">\n",
       "      <th></th>\n",
       "      <th>new_car_detail</th>\n",
       "      <th>new_car_overview</th>\n",
       "      <th>new_car_feature</th>\n",
       "      <th>new_car_specs</th>\n",
       "      <th>car_links</th>\n",
       "      <th>Location</th>\n",
       "    </tr>\n",
       "  </thead>\n",
       "  <tbody>\n",
       "    <tr>\n",
       "      <th>0</th>\n",
       "      <td>{'it': 0, 'ft': 'Petrol', 'bt': 'Hatchback', '...</td>\n",
       "      <td>{'heading': 'Car overview', 'top': [{'key': 'R...</td>\n",
       "      <td>{'heading': 'Features', 'top': [{'value': 'Pow...</td>\n",
       "      <td>{'heading': 'Specifications', 'top': [{'key': ...</td>\n",
       "      <td>https://www.cardekho.com/used-car-details/used...</td>\n",
       "      <td>Hyderabad</td>\n",
       "    </tr>\n",
       "    <tr>\n",
       "      <th>1</th>\n",
       "      <td>{'it': 0, 'ft': 'Petrol', 'bt': 'Hatchback', '...</td>\n",
       "      <td>{'heading': 'Car overview', 'top': [{'key': 'R...</td>\n",
       "      <td>{'heading': 'Features', 'top': [{'value': 'Pow...</td>\n",
       "      <td>{'heading': 'Specifications', 'top': [{'key': ...</td>\n",
       "      <td>https://www.cardekho.com/buy-used-car-details/...</td>\n",
       "      <td>Hyderabad</td>\n",
       "    </tr>\n",
       "    <tr>\n",
       "      <th>2</th>\n",
       "      <td>{'it': 0, 'ft': 'Petrol', 'bt': 'SUV', 'km': '...</td>\n",
       "      <td>{'heading': 'Car overview', 'top': [{'key': 'R...</td>\n",
       "      <td>{'heading': 'Features', 'top': [{'value': 'Pow...</td>\n",
       "      <td>{'heading': 'Specifications', 'top': [{'key': ...</td>\n",
       "      <td>https://www.cardekho.com/used-car-details/used...</td>\n",
       "      <td>Hyderabad</td>\n",
       "    </tr>\n",
       "    <tr>\n",
       "      <th>3</th>\n",
       "      <td>{'it': 0, 'ft': 'Petrol', 'bt': 'Hatchback', '...</td>\n",
       "      <td>{'heading': 'Car overview', 'top': [{'key': 'R...</td>\n",
       "      <td>{'heading': 'Features', 'top': [{'value': 'Pow...</td>\n",
       "      <td>{'heading': 'Specifications', 'top': [{'key': ...</td>\n",
       "      <td>https://www.cardekho.com/buy-used-car-details/...</td>\n",
       "      <td>Hyderabad</td>\n",
       "    </tr>\n",
       "    <tr>\n",
       "      <th>4</th>\n",
       "      <td>{'it': 0, 'ft': 'Petrol', 'bt': 'SUV', 'km': '...</td>\n",
       "      <td>{'heading': 'Car overview', 'top': [{'key': 'R...</td>\n",
       "      <td>{'heading': 'Features', 'top': [{'value': 'Pow...</td>\n",
       "      <td>{'heading': 'Specifications', 'top': [{'key': ...</td>\n",
       "      <td>https://www.cardekho.com/used-car-details/used...</td>\n",
       "      <td>Hyderabad</td>\n",
       "    </tr>\n",
       "    <tr>\n",
       "      <th>...</th>\n",
       "      <td>...</td>\n",
       "      <td>...</td>\n",
       "      <td>...</td>\n",
       "      <td>...</td>\n",
       "      <td>...</td>\n",
       "      <td>...</td>\n",
       "    </tr>\n",
       "    <tr>\n",
       "      <th>1478</th>\n",
       "      <td>{'it': 0, 'ft': 'Diesel', 'bt': 'SUV', 'km': '...</td>\n",
       "      <td>{'heading': 'Car overview', 'top': [{'key': 'R...</td>\n",
       "      <td>{'heading': 'Features', 'top': [{'value': 'Pow...</td>\n",
       "      <td>{'heading': 'Specifications', 'top': [{'key': ...</td>\n",
       "      <td>https://www.cardekho.com/used-car-details/used...</td>\n",
       "      <td>Hyderabad</td>\n",
       "    </tr>\n",
       "    <tr>\n",
       "      <th>1479</th>\n",
       "      <td>{'it': 0, 'ft': 'Diesel', 'bt': 'Sedan', 'km':...</td>\n",
       "      <td>{'heading': 'Car overview', 'top': [{'key': 'R...</td>\n",
       "      <td>{'heading': 'Features', 'top': [{'value': 'Pow...</td>\n",
       "      <td>{'heading': 'Specifications', 'top': [{'key': ...</td>\n",
       "      <td>https://www.cardekho.com/used-car-details/used...</td>\n",
       "      <td>Hyderabad</td>\n",
       "    </tr>\n",
       "    <tr>\n",
       "      <th>1480</th>\n",
       "      <td>{'it': 0, 'ft': 'Diesel', 'bt': 'Sedan', 'km':...</td>\n",
       "      <td>{'heading': 'Car overview', 'top': [{'key': 'R...</td>\n",
       "      <td>{'heading': 'Features', 'top': [{'value': 'Pow...</td>\n",
       "      <td>{'heading': 'Specifications', 'top': [{'key': ...</td>\n",
       "      <td>https://www.cardekho.com/used-car-details/used...</td>\n",
       "      <td>Hyderabad</td>\n",
       "    </tr>\n",
       "    <tr>\n",
       "      <th>1481</th>\n",
       "      <td>{'it': 0, 'ft': 'Diesel', 'bt': 'SUV', 'km': '...</td>\n",
       "      <td>{'heading': 'Car overview', 'top': [{'key': 'R...</td>\n",
       "      <td>{'heading': 'Features', 'top': [{'value': 'Pow...</td>\n",
       "      <td>{'heading': 'Specifications', 'top': [{'key': ...</td>\n",
       "      <td>https://www.cardekho.com/used-car-details/used...</td>\n",
       "      <td>Hyderabad</td>\n",
       "    </tr>\n",
       "    <tr>\n",
       "      <th>1482</th>\n",
       "      <td>{'it': 0, 'ft': 'Diesel', 'bt': 'MUV', 'km': '...</td>\n",
       "      <td>{'heading': 'Car overview', 'top': [{'key': 'R...</td>\n",
       "      <td>{'heading': 'Features', 'top': [{'value': 'Pow...</td>\n",
       "      <td>{'heading': 'Specifications', 'top': [{'key': ...</td>\n",
       "      <td>https://www.cardekho.com/used-car-details/used...</td>\n",
       "      <td>Hyderabad</td>\n",
       "    </tr>\n",
       "  </tbody>\n",
       "</table>\n",
       "<p>1483 rows × 6 columns</p>\n",
       "</div>"
      ],
      "text/plain": [
       "                                         new_car_detail  \\\n",
       "0     {'it': 0, 'ft': 'Petrol', 'bt': 'Hatchback', '...   \n",
       "1     {'it': 0, 'ft': 'Petrol', 'bt': 'Hatchback', '...   \n",
       "2     {'it': 0, 'ft': 'Petrol', 'bt': 'SUV', 'km': '...   \n",
       "3     {'it': 0, 'ft': 'Petrol', 'bt': 'Hatchback', '...   \n",
       "4     {'it': 0, 'ft': 'Petrol', 'bt': 'SUV', 'km': '...   \n",
       "...                                                 ...   \n",
       "1478  {'it': 0, 'ft': 'Diesel', 'bt': 'SUV', 'km': '...   \n",
       "1479  {'it': 0, 'ft': 'Diesel', 'bt': 'Sedan', 'km':...   \n",
       "1480  {'it': 0, 'ft': 'Diesel', 'bt': 'Sedan', 'km':...   \n",
       "1481  {'it': 0, 'ft': 'Diesel', 'bt': 'SUV', 'km': '...   \n",
       "1482  {'it': 0, 'ft': 'Diesel', 'bt': 'MUV', 'km': '...   \n",
       "\n",
       "                                       new_car_overview  \\\n",
       "0     {'heading': 'Car overview', 'top': [{'key': 'R...   \n",
       "1     {'heading': 'Car overview', 'top': [{'key': 'R...   \n",
       "2     {'heading': 'Car overview', 'top': [{'key': 'R...   \n",
       "3     {'heading': 'Car overview', 'top': [{'key': 'R...   \n",
       "4     {'heading': 'Car overview', 'top': [{'key': 'R...   \n",
       "...                                                 ...   \n",
       "1478  {'heading': 'Car overview', 'top': [{'key': 'R...   \n",
       "1479  {'heading': 'Car overview', 'top': [{'key': 'R...   \n",
       "1480  {'heading': 'Car overview', 'top': [{'key': 'R...   \n",
       "1481  {'heading': 'Car overview', 'top': [{'key': 'R...   \n",
       "1482  {'heading': 'Car overview', 'top': [{'key': 'R...   \n",
       "\n",
       "                                        new_car_feature  \\\n",
       "0     {'heading': 'Features', 'top': [{'value': 'Pow...   \n",
       "1     {'heading': 'Features', 'top': [{'value': 'Pow...   \n",
       "2     {'heading': 'Features', 'top': [{'value': 'Pow...   \n",
       "3     {'heading': 'Features', 'top': [{'value': 'Pow...   \n",
       "4     {'heading': 'Features', 'top': [{'value': 'Pow...   \n",
       "...                                                 ...   \n",
       "1478  {'heading': 'Features', 'top': [{'value': 'Pow...   \n",
       "1479  {'heading': 'Features', 'top': [{'value': 'Pow...   \n",
       "1480  {'heading': 'Features', 'top': [{'value': 'Pow...   \n",
       "1481  {'heading': 'Features', 'top': [{'value': 'Pow...   \n",
       "1482  {'heading': 'Features', 'top': [{'value': 'Pow...   \n",
       "\n",
       "                                          new_car_specs  \\\n",
       "0     {'heading': 'Specifications', 'top': [{'key': ...   \n",
       "1     {'heading': 'Specifications', 'top': [{'key': ...   \n",
       "2     {'heading': 'Specifications', 'top': [{'key': ...   \n",
       "3     {'heading': 'Specifications', 'top': [{'key': ...   \n",
       "4     {'heading': 'Specifications', 'top': [{'key': ...   \n",
       "...                                                 ...   \n",
       "1478  {'heading': 'Specifications', 'top': [{'key': ...   \n",
       "1479  {'heading': 'Specifications', 'top': [{'key': ...   \n",
       "1480  {'heading': 'Specifications', 'top': [{'key': ...   \n",
       "1481  {'heading': 'Specifications', 'top': [{'key': ...   \n",
       "1482  {'heading': 'Specifications', 'top': [{'key': ...   \n",
       "\n",
       "                                              car_links   Location  \n",
       "0     https://www.cardekho.com/used-car-details/used...  Hyderabad  \n",
       "1     https://www.cardekho.com/buy-used-car-details/...  Hyderabad  \n",
       "2     https://www.cardekho.com/used-car-details/used...  Hyderabad  \n",
       "3     https://www.cardekho.com/buy-used-car-details/...  Hyderabad  \n",
       "4     https://www.cardekho.com/used-car-details/used...  Hyderabad  \n",
       "...                                                 ...        ...  \n",
       "1478  https://www.cardekho.com/used-car-details/used...  Hyderabad  \n",
       "1479  https://www.cardekho.com/used-car-details/used...  Hyderabad  \n",
       "1480  https://www.cardekho.com/used-car-details/used...  Hyderabad  \n",
       "1481  https://www.cardekho.com/used-car-details/used...  Hyderabad  \n",
       "1482  https://www.cardekho.com/used-car-details/used...  Hyderabad  \n",
       "\n",
       "[1483 rows x 6 columns]"
      ]
     },
     "execution_count": 41,
     "metadata": {},
     "output_type": "execute_result"
    }
   ],
   "source": [
    "df_hyderabad"
   ]
  },
  {
   "cell_type": "code",
   "execution_count": 42,
   "id": "beed92a3-9829-4f5b-9572-f01aec97d480",
   "metadata": {},
   "outputs": [
    {
     "data": {
      "text/html": [
       "<div>\n",
       "<style scoped>\n",
       "    .dataframe tbody tr th:only-of-type {\n",
       "        vertical-align: middle;\n",
       "    }\n",
       "\n",
       "    .dataframe tbody tr th {\n",
       "        vertical-align: top;\n",
       "    }\n",
       "\n",
       "    .dataframe thead th {\n",
       "        text-align: right;\n",
       "    }\n",
       "</style>\n",
       "<table border=\"1\" class=\"dataframe\">\n",
       "  <thead>\n",
       "    <tr style=\"text-align: right;\">\n",
       "      <th></th>\n",
       "      <th>new_car_detail</th>\n",
       "      <th>new_car_overview</th>\n",
       "      <th>new_car_feature</th>\n",
       "      <th>new_car_specs</th>\n",
       "      <th>car_links</th>\n",
       "      <th>Location</th>\n",
       "    </tr>\n",
       "  </thead>\n",
       "  <tbody>\n",
       "    <tr>\n",
       "      <th>0</th>\n",
       "      <td>{'it': 0, 'ft': 'Petrol', 'bt': 'Hatchback', '...</td>\n",
       "      <td>{'heading': 'Car overview', 'top': [{'key': 'R...</td>\n",
       "      <td>{'heading': 'Features', 'top': [{'value': 'Pow...</td>\n",
       "      <td>{'heading': 'Specifications', 'top': [{'key': ...</td>\n",
       "      <td>https://www.cardekho.com/used-car-details/used...</td>\n",
       "      <td>Hyderabad</td>\n",
       "    </tr>\n",
       "  </tbody>\n",
       "</table>\n",
       "</div>"
      ],
      "text/plain": [
       "                                      new_car_detail  \\\n",
       "0  {'it': 0, 'ft': 'Petrol', 'bt': 'Hatchback', '...   \n",
       "\n",
       "                                    new_car_overview  \\\n",
       "0  {'heading': 'Car overview', 'top': [{'key': 'R...   \n",
       "\n",
       "                                     new_car_feature  \\\n",
       "0  {'heading': 'Features', 'top': [{'value': 'Pow...   \n",
       "\n",
       "                                       new_car_specs  \\\n",
       "0  {'heading': 'Specifications', 'top': [{'key': ...   \n",
       "\n",
       "                                           car_links   Location  \n",
       "0  https://www.cardekho.com/used-car-details/used...  Hyderabad  "
      ]
     },
     "execution_count": 42,
     "metadata": {},
     "output_type": "execute_result"
    }
   ],
   "source": [
    "merged_df = pd.concat([df_hyderabad, df_bangalore, df_chennai, df_kolkata, df_delhi, df_jaipur], axis=0).reset_index(drop=True)\n",
    "merged_df.head(1)"
   ]
  },
  {
   "cell_type": "code",
   "execution_count": 43,
   "id": "745c8f5d-a84a-45d3-8253-546b4a64bb96",
   "metadata": {},
   "outputs": [],
   "source": [
    "merged_df = merged_df.drop(['car_links'],axis=1)"
   ]
  },
  {
   "cell_type": "code",
   "execution_count": 44,
   "id": "8df2a9a2-0014-40b1-ad8f-f37b10876e1e",
   "metadata": {},
   "outputs": [],
   "source": [
    "\n",
    "merged_df['new_car_detail'] = merged_df['new_car_detail'].apply(ast.literal_eval)\n",
    "merged_df['new_car_overview'] = merged_df['new_car_overview'].apply(ast.literal_eval)\n",
    "merged_df['new_car_feature'] = merged_df['new_car_feature'].apply(ast.literal_eval)\n",
    "merged_df['new_car_specs'] = merged_df['new_car_specs'].apply(ast.literal_eval)"
   ]
  },
  {
   "cell_type": "code",
   "execution_count": 45,
   "id": "85c3294f-1ecc-4d8d-a367-8f555a05987b",
   "metadata": {},
   "outputs": [],
   "source": [
    "import numpy as np\n",
    "import ast\n",
    "import re\n",
    "import matplotlib.pyplot as plt\n",
    "import seaborn as sns\n",
    "import scipy.stats as stats\n",
    "import pandas as pd"
   ]
  },
  {
   "cell_type": "code",
   "execution_count": 46,
   "id": "220c3a39-0177-44ab-9f73-6c72718c6ac4",
   "metadata": {},
   "outputs": [
    {
     "data": {
      "text/html": [
       "<div>\n",
       "<style scoped>\n",
       "    .dataframe tbody tr th:only-of-type {\n",
       "        vertical-align: middle;\n",
       "    }\n",
       "\n",
       "    .dataframe tbody tr th {\n",
       "        vertical-align: top;\n",
       "    }\n",
       "\n",
       "    .dataframe thead th {\n",
       "        text-align: right;\n",
       "    }\n",
       "</style>\n",
       "<table border=\"1\" class=\"dataframe\">\n",
       "  <thead>\n",
       "    <tr style=\"text-align: right;\">\n",
       "      <th></th>\n",
       "      <th>it</th>\n",
       "      <th>ft</th>\n",
       "      <th>bt</th>\n",
       "      <th>km</th>\n",
       "      <th>transmission</th>\n",
       "      <th>ownerNo</th>\n",
       "      <th>owner</th>\n",
       "      <th>oem</th>\n",
       "      <th>model</th>\n",
       "      <th>modelYear</th>\n",
       "      <th>centralVariantId</th>\n",
       "      <th>variantName</th>\n",
       "      <th>price</th>\n",
       "      <th>priceActual</th>\n",
       "      <th>priceSaving</th>\n",
       "      <th>priceFixedText</th>\n",
       "      <th>trendingText.imgUrl</th>\n",
       "      <th>trendingText.heading</th>\n",
       "      <th>trendingText.desc</th>\n",
       "    </tr>\n",
       "  </thead>\n",
       "  <tbody>\n",
       "    <tr>\n",
       "      <th>0</th>\n",
       "      <td>0</td>\n",
       "      <td>Petrol</td>\n",
       "      <td>Hatchback</td>\n",
       "      <td>20,000</td>\n",
       "      <td>Automatic</td>\n",
       "      <td>1</td>\n",
       "      <td>1st Owner</td>\n",
       "      <td>Volkswagen</td>\n",
       "      <td>Volkswagen Polo</td>\n",
       "      <td>2022</td>\n",
       "      <td>7746</td>\n",
       "      <td>1.0 TSI Highline Plus AT</td>\n",
       "      <td>₹ 10.44 Lakh</td>\n",
       "      <td></td>\n",
       "      <td></td>\n",
       "      <td>None</td>\n",
       "      <td>https://stimg.cardekho.com/used-cars/common/ic...</td>\n",
       "      <td>Trending Car!</td>\n",
       "      <td>High chances of sale in next 6 days</td>\n",
       "    </tr>\n",
       "  </tbody>\n",
       "</table>\n",
       "</div>"
      ],
      "text/plain": [
       "   it      ft         bt      km transmission  ownerNo      owner         oem  \\\n",
       "0   0  Petrol  Hatchback  20,000    Automatic        1  1st Owner  Volkswagen   \n",
       "\n",
       "             model  modelYear  centralVariantId               variantName  \\\n",
       "0  Volkswagen Polo       2022              7746  1.0 TSI Highline Plus AT   \n",
       "\n",
       "          price priceActual priceSaving priceFixedText  \\\n",
       "0  ₹ 10.44 Lakh                                   None   \n",
       "\n",
       "                                 trendingText.imgUrl trendingText.heading  \\\n",
       "0  https://stimg.cardekho.com/used-cars/common/ic...        Trending Car!   \n",
       "\n",
       "                     trendingText.desc  \n",
       "0  High chances of sale in next 6 days  "
      ]
     },
     "execution_count": 46,
     "metadata": {},
     "output_type": "execute_result"
    }
   ],
   "source": [
    "details_unpacked = pd.json_normalize(merged_df['new_car_detail'])\n",
    "details_unpacked.head(1)"
   ]
  },
  {
   "cell_type": "code",
   "execution_count": 47,
   "id": "ae6b2938-3e89-42d3-87e9-f55bbb355d41",
   "metadata": {},
   "outputs": [
    {
     "data": {
      "text/plain": [
       "{'heading': 'Car overview',\n",
       " 'top': [{'key': 'Registration Year',\n",
       "   'value': '2022',\n",
       "   'icon': 'https://images10.gaadi.com/listing/vdp/co/v1/registrationYear.svg'},\n",
       "  {'key': 'Insurance Validity',\n",
       "   'value': 'Third Party insurance',\n",
       "   'icon': 'https://images10.gaadi.com/listing/vdp/co/v1/insuranceValidity.svg'},\n",
       "  {'key': 'Fuel Type',\n",
       "   'value': 'Petrol',\n",
       "   'icon': 'https://images10.gaadi.com/listing/vdp/co/v1/fuel.svg'},\n",
       "  {'key': 'Seats',\n",
       "   'value': '5 Seats',\n",
       "   'icon': 'https://images10.gaadi.com/listing/vdp/co/v1/seats.svg'},\n",
       "  {'key': 'Kms Driven',\n",
       "   'value': '20,000 Kms',\n",
       "   'icon': 'https://images10.gaadi.com/listing/vdp/co/v1/kmsDriven.svg'},\n",
       "  {'key': 'RTO',\n",
       "   'value': 'TS04',\n",
       "   'icon': 'https://images10.gaadi.com/listing/vdp/co/v1/rto.svg'},\n",
       "  {'key': 'Ownership',\n",
       "   'value': 'First Owner',\n",
       "   'icon': 'https://images10.gaadi.com/listing/vdp/co/v1/ownership.svg'},\n",
       "  {'key': 'Engine Displacement',\n",
       "   'value': '999 cc',\n",
       "   'icon': 'https://images10.gaadi.com/listing/vdp/co/v1/engineDisplacement.svg'},\n",
       "  {'key': 'Transmission',\n",
       "   'value': 'Automatic',\n",
       "   'icon': 'https://images10.gaadi.com/listing/vdp/co/v1/transmission.svg'},\n",
       "  {'key': 'Year of Manufacture',\n",
       "   'value': 2022,\n",
       "   'icon': 'https://images10.gaadi.com/listing/vdp/co/v1/yearManufacture.svg'}],\n",
       " 'bottomData': None}"
      ]
     },
     "execution_count": 47,
     "metadata": {},
     "output_type": "execute_result"
    }
   ],
   "source": [
    "merged_df['new_car_overview'][0]"
   ]
  },
  {
   "cell_type": "code",
   "execution_count": 48,
   "id": "2c1a0db9-a98f-4d65-9f0e-876ef3deb566",
   "metadata": {},
   "outputs": [
    {
     "data": {
      "text/html": [
       "<div>\n",
       "<style scoped>\n",
       "    .dataframe tbody tr th:only-of-type {\n",
       "        vertical-align: middle;\n",
       "    }\n",
       "\n",
       "    .dataframe tbody tr th {\n",
       "        vertical-align: top;\n",
       "    }\n",
       "\n",
       "    .dataframe thead th {\n",
       "        text-align: right;\n",
       "    }\n",
       "</style>\n",
       "<table border=\"1\" class=\"dataframe\">\n",
       "  <thead>\n",
       "    <tr style=\"text-align: right;\">\n",
       "      <th></th>\n",
       "      <th>Registration Year</th>\n",
       "      <th>Insurance Validity</th>\n",
       "      <th>Fuel Type</th>\n",
       "      <th>Seats</th>\n",
       "      <th>Kms Driven</th>\n",
       "      <th>RTO</th>\n",
       "      <th>Ownership</th>\n",
       "      <th>Engine Displacement</th>\n",
       "      <th>Transmission</th>\n",
       "      <th>Year of Manufacture</th>\n",
       "    </tr>\n",
       "  </thead>\n",
       "  <tbody>\n",
       "    <tr>\n",
       "      <th>0</th>\n",
       "      <td>2022</td>\n",
       "      <td>Third Party insurance</td>\n",
       "      <td>Petrol</td>\n",
       "      <td>5 Seats</td>\n",
       "      <td>20,000 Kms</td>\n",
       "      <td>TS04</td>\n",
       "      <td>First Owner</td>\n",
       "      <td>999 cc</td>\n",
       "      <td>Automatic</td>\n",
       "      <td>2022.0</td>\n",
       "    </tr>\n",
       "  </tbody>\n",
       "</table>\n",
       "</div>"
      ],
      "text/plain": [
       "  Registration Year     Insurance Validity Fuel Type    Seats  Kms Driven  \\\n",
       "0              2022  Third Party insurance    Petrol  5 Seats  20,000 Kms   \n",
       "\n",
       "    RTO    Ownership Engine Displacement Transmission  Year of Manufacture  \n",
       "0  TS04  First Owner              999 cc    Automatic               2022.0  "
      ]
     },
     "execution_count": 48,
     "metadata": {},
     "output_type": "execute_result"
    }
   ],
   "source": [
    "\n",
    "def process_row(row):\n",
    "    row_data = {item['key']: item['value'] for item in row['top']}\n",
    "    return row_data\n",
    "\n",
    "overview_unpacked = merged_df['new_car_overview'].apply(lambda row: pd.Series(process_row(row)))\n",
    "\n",
    "overview_unpacked.head(1)"
   ]
  },
  {
   "cell_type": "code",
   "execution_count": 49,
   "id": "c460dd12-03c4-46fb-9607-a9c44ad86c08",
   "metadata": {},
   "outputs": [
    {
     "data": {
      "text/plain": [
       "{'heading': 'Features',\n",
       " 'top': [{'value': 'Power Steering'},\n",
       "  {'value': 'Power Windows Front'},\n",
       "  {'value': 'Air Conditioner'},\n",
       "  {'value': 'Heater'},\n",
       "  {'value': 'Adjustable Head Lights'},\n",
       "  {'value': 'Fog Lights Front'},\n",
       "  {'value': 'Anti Lock Braking System'},\n",
       "  {'value': 'Centeral Locking'},\n",
       "  {'value': 'Radio'}],\n",
       " 'data': [{'heading': 'Comfort & Convenience',\n",
       "   'subHeading': 'Comfort',\n",
       "   'list': [{'value': 'Power Steering'},\n",
       "    {'value': 'Power Windows Front'},\n",
       "    {'value': 'Power Windows Rear'},\n",
       "    {'value': 'Remote Trunk Opener'},\n",
       "    {'value': 'Low Fuel Warning Light'},\n",
       "    {'value': 'Accessory Power Outlet'},\n",
       "    {'value': 'Vanity Mirror'},\n",
       "    {'value': 'Rear Seat Headrest'},\n",
       "    {'value': 'Cup Holders Front'},\n",
       "    {'value': 'Seat Lumbar Support'},\n",
       "    {'value': 'Multifunction Steering Wheel'},\n",
       "    {'value': 'Cruise Control'},\n",
       "    {'value': 'Rear ACVents'},\n",
       "    {'value': 'Glove Box Cooling'},\n",
       "    {'value': 'Voice Control'},\n",
       "    {'value': 'Gear Shift Indicator'},\n",
       "    {'value': 'Lane Change Indicator'},\n",
       "    {'value': 'Adjustable Headrest'}]},\n",
       "  {'heading': 'Interior',\n",
       "   'subHeading': 'Interior',\n",
       "   'list': [{'value': 'Air Conditioner'},\n",
       "    {'value': 'Heater'},\n",
       "    {'value': 'Adjustable Steering'},\n",
       "    {'value': 'Digital Odometer'},\n",
       "    {'value': 'Tachometer'},\n",
       "    {'value': 'Electronic Multi Tripmeter'},\n",
       "    {'value': 'Fabric Upholstery'},\n",
       "    {'value': 'Leather Steering Wheel'},\n",
       "    {'value': 'Glove Compartment'},\n",
       "    {'value': 'Digital Clock'},\n",
       "    {'value': 'Height Adjustable Driver Seat'},\n",
       "    {'value': 'Dual Tone Dashboard'},\n",
       "    {'value': 'Leather Wrap Gear Shift Selector'}]},\n",
       "  {'heading': 'Exterior',\n",
       "   'subHeading': 'Exterior',\n",
       "   'list': [{'value': 'Adjustable Head Lights'},\n",
       "    {'value': 'Fog Lights Front'},\n",
       "    {'value': 'Fog Lights Rear'},\n",
       "    {'value': 'Power Adjustable Exterior Rear View Mirror'},\n",
       "    {'value': 'Electric Folding Rear View Mirror'},\n",
       "    {'value': 'Rain Sensing Wiper'},\n",
       "    {'value': 'Rear Window Wiper'},\n",
       "    {'value': 'Rear Window Washer'},\n",
       "    {'value': 'Rear Window Defogger'},\n",
       "    {'value': 'Alloy Wheels'},\n",
       "    {'value': 'Power Antenna'},\n",
       "    {'value': 'Integrated Antenna'},\n",
       "    {'value': 'Outside Rear View Mirror Turn Indicators'},\n",
       "    {'value': 'Cornering Headlamps'},\n",
       "    {'value': 'Halogen Headlamps'}]},\n",
       "  {'heading': 'Safety',\n",
       "   'subHeading': 'Safety',\n",
       "   'list': [{'value': 'Anti Lock Braking System'},\n",
       "    {'value': 'Centeral Locking'},\n",
       "    {'value': 'Power Door Locks'},\n",
       "    {'value': 'Child Safety Locks'},\n",
       "    {'value': 'Driver Air Bag'},\n",
       "    {'value': 'Passenger Air Bag'},\n",
       "    {'value': 'Day Night Rear View Mirror'},\n",
       "    {'value': 'Passenger Side Rear View Mirror'},\n",
       "    {'value': 'Halogen Headlamps'},\n",
       "    {'value': 'Rear Seat Belts'},\n",
       "    {'value': 'Seat Belt Warning'},\n",
       "    {'value': 'Side Impact Beams'},\n",
       "    {'value': 'Front Impact Beams'},\n",
       "    {'value': 'Vehicle Stability Control System'},\n",
       "    {'value': 'Adjustable Seats'},\n",
       "    {'value': 'Keyless Entry'},\n",
       "    {'value': 'Centrally Mounted Fuel Tank'},\n",
       "    {'value': 'Engine Immobilizer'},\n",
       "    {'value': 'Engine Check Warning'},\n",
       "    {'value': 'Crash Sensor'},\n",
       "    {'value': 'Ebd'},\n",
       "    {'value': 'Anti Theft Device'},\n",
       "    {'value': 'Anti Pinch Power Windows'},\n",
       "    {'value': 'Speed Sensing Auto Door Lock'},\n",
       "    {'value': 'Isofix Child Seat Mounts'},\n",
       "    {'value': 'Pretensioners And Force Limiter Seatbelts'},\n",
       "    {'value': 'Hill Assist'},\n",
       "    {'value': 'Impact Sensing Auto Door Lock'},\n",
       "    {'value': 'No Of Airbags'},\n",
       "    {'value': 'Eletronic Stability Control'}]},\n",
       "  {'heading': 'Entertainment & Communication',\n",
       "   'subHeading': 'Entertainment',\n",
       "   'list': [{'value': 'Radio'},\n",
       "    {'value': 'Speakers Front'},\n",
       "    {'value': 'Speakers Rear'},\n",
       "    {'value': 'Usb Auxiliary Input'},\n",
       "    {'value': 'Bluetooth'},\n",
       "    {'value': 'Touch Screen'},\n",
       "    {'value': 'Number Of Speaker'},\n",
       "    {'value': 'Apple Car Play'},\n",
       "    {'value': 'Android Auto'},\n",
       "    {'value': 'Mirror Link'}]}],\n",
       " 'commonIcon': 'https://stimg.cardekho.com/pwa/img/vdpN/tickG.svg'}"
      ]
     },
     "execution_count": 49,
     "metadata": {},
     "output_type": "execute_result"
    }
   ],
   "source": [
    "merged_df['new_car_feature'][0]"
   ]
  },
  {
   "cell_type": "code",
   "execution_count": 50,
   "id": "289d9464-2a13-48fa-b0ae-d03d544710a7",
   "metadata": {},
   "outputs": [
    {
     "data": {
      "text/html": [
       "<div>\n",
       "<style scoped>\n",
       "    .dataframe tbody tr th:only-of-type {\n",
       "        vertical-align: middle;\n",
       "    }\n",
       "\n",
       "    .dataframe tbody tr th {\n",
       "        vertical-align: top;\n",
       "    }\n",
       "\n",
       "    .dataframe thead th {\n",
       "        text-align: right;\n",
       "    }\n",
       "</style>\n",
       "<table border=\"1\" class=\"dataframe\">\n",
       "  <thead>\n",
       "    <tr style=\"text-align: right;\">\n",
       "      <th></th>\n",
       "      <th>Power Steering</th>\n",
       "      <th>Power Windows Front</th>\n",
       "      <th>Air Conditioner</th>\n",
       "      <th>Heater</th>\n",
       "      <th>Adjustable Head Lights</th>\n",
       "      <th>Fog Lights Front</th>\n",
       "      <th>Anti Lock Braking System</th>\n",
       "      <th>Centeral Locking</th>\n",
       "      <th>Radio</th>\n",
       "      <th>Power Windows Rear</th>\n",
       "      <th>...</th>\n",
       "      <th>Roof Carrier</th>\n",
       "      <th>Blind Spot Monitor</th>\n",
       "      <th>Compass</th>\n",
       "      <th>Removable Convertible Top</th>\n",
       "      <th>Active Noise Cancellation</th>\n",
       "      <th>Heads Up Display</th>\n",
       "      <th>Cassette Player</th>\n",
       "      <th>Power Folding3rd Row Seat</th>\n",
       "      <th>Headlamp Washers</th>\n",
       "      <th>Smart Key Band</th>\n",
       "    </tr>\n",
       "  </thead>\n",
       "  <tbody>\n",
       "    <tr>\n",
       "      <th>0</th>\n",
       "      <td>True</td>\n",
       "      <td>True</td>\n",
       "      <td>True</td>\n",
       "      <td>True</td>\n",
       "      <td>True</td>\n",
       "      <td>True</td>\n",
       "      <td>True</td>\n",
       "      <td>True</td>\n",
       "      <td>True</td>\n",
       "      <td>True</td>\n",
       "      <td>...</td>\n",
       "      <td>NaN</td>\n",
       "      <td>NaN</td>\n",
       "      <td>NaN</td>\n",
       "      <td>NaN</td>\n",
       "      <td>NaN</td>\n",
       "      <td>NaN</td>\n",
       "      <td>NaN</td>\n",
       "      <td>NaN</td>\n",
       "      <td>NaN</td>\n",
       "      <td>NaN</td>\n",
       "    </tr>\n",
       "  </tbody>\n",
       "</table>\n",
       "<p>1 rows × 173 columns</p>\n",
       "</div>"
      ],
      "text/plain": [
       "  Power Steering Power Windows Front Air Conditioner Heater  \\\n",
       "0           True                True            True   True   \n",
       "\n",
       "  Adjustable Head Lights Fog Lights Front Anti Lock Braking System  \\\n",
       "0                   True             True                     True   \n",
       "\n",
       "  Centeral Locking Radio Power Windows Rear  ... Roof Carrier  \\\n",
       "0             True  True               True  ...          NaN   \n",
       "\n",
       "  Blind Spot Monitor Compass Removable Convertible Top  \\\n",
       "0                NaN     NaN                       NaN   \n",
       "\n",
       "  Active Noise Cancellation Heads Up Display Cassette Player  \\\n",
       "0                       NaN              NaN             NaN   \n",
       "\n",
       "  Power Folding3rd Row Seat Headlamp Washers Smart Key Band  \n",
       "0                       NaN              NaN            NaN  \n",
       "\n",
       "[1 rows x 173 columns]"
      ]
     },
     "execution_count": 50,
     "metadata": {},
     "output_type": "execute_result"
    }
   ],
   "source": [
    "\n",
    "def process_features(row):\n",
    "    features = {}\n",
    "\n",
    "    # Flatten 'top' values\n",
    "    for item in row['top']:\n",
    "        features[item['value']] = True\n",
    "    \n",
    "    # Flatten 'data' values\n",
    "    for data_item in row.get('data', []):\n",
    "        for sub_item in data_item.get('list', []):\n",
    "            features[sub_item['value']] = True\n",
    "    \n",
    "    return features\n",
    "\n",
    "features_unpacked = merged_df['new_car_feature'].apply(lambda row: pd.Series(process_features(row)))\n",
    "\n",
    "features_unpacked.head(1)"
   ]
  },
  {
   "cell_type": "code",
   "execution_count": 51,
   "id": "14e97807-0715-4987-b18b-cf98a12e9f6c",
   "metadata": {},
   "outputs": [
    {
     "data": {
      "text/html": [
       "<div>\n",
       "<style scoped>\n",
       "    .dataframe tbody tr th:only-of-type {\n",
       "        vertical-align: middle;\n",
       "    }\n",
       "\n",
       "    .dataframe tbody tr th {\n",
       "        vertical-align: top;\n",
       "    }\n",
       "\n",
       "    .dataframe thead th {\n",
       "        text-align: right;\n",
       "    }\n",
       "</style>\n",
       "<table border=\"1\" class=\"dataframe\">\n",
       "  <thead>\n",
       "    <tr style=\"text-align: right;\">\n",
       "      <th></th>\n",
       "      <th>Mileage</th>\n",
       "      <th>Engine</th>\n",
       "      <th>Max Power</th>\n",
       "      <th>Torque</th>\n",
       "      <th>Wheel Size</th>\n",
       "      <th>Seats</th>\n",
       "      <th>Color</th>\n",
       "      <th>Engine Type</th>\n",
       "      <th>Displacement</th>\n",
       "      <th>Max Torque</th>\n",
       "      <th>...</th>\n",
       "      <th>Turning Radius</th>\n",
       "      <th>Front Brake Type</th>\n",
       "      <th>Rear Brake Type</th>\n",
       "      <th>Tyre Type</th>\n",
       "      <th>Alloy Wheel Size</th>\n",
       "      <th>No Door Numbers</th>\n",
       "      <th>Cargo Volumn</th>\n",
       "      <th>Top Speed</th>\n",
       "      <th>Acceleration</th>\n",
       "      <th>Ground Clearance Unladen</th>\n",
       "    </tr>\n",
       "  </thead>\n",
       "  <tbody>\n",
       "    <tr>\n",
       "      <th>0</th>\n",
       "      <td>16.47 kmpl</td>\n",
       "      <td>999 CC</td>\n",
       "      <td>108.62bhp@5000-5500rpm</td>\n",
       "      <td>175nm</td>\n",
       "      <td>R16</td>\n",
       "      <td>5</td>\n",
       "      <td>Others</td>\n",
       "      <td>1.0L TSI Petrol</td>\n",
       "      <td>999</td>\n",
       "      <td>175nm@1750-4000rpm</td>\n",
       "      <td>...</td>\n",
       "      <td>4.9</td>\n",
       "      <td>Disc</td>\n",
       "      <td>Drum</td>\n",
       "      <td>Tubeless,Radial</td>\n",
       "      <td>R16</td>\n",
       "      <td>5</td>\n",
       "      <td>280</td>\n",
       "      <td>NaN</td>\n",
       "      <td>NaN</td>\n",
       "      <td>NaN</td>\n",
       "    </tr>\n",
       "  </tbody>\n",
       "</table>\n",
       "<p>1 rows × 40 columns</p>\n",
       "</div>"
      ],
      "text/plain": [
       "      Mileage  Engine               Max Power Torque Wheel Size Seats   Color  \\\n",
       "0  16.47 kmpl  999 CC  108.62bhp@5000-5500rpm  175nm        R16     5  Others   \n",
       "\n",
       "       Engine Type Displacement          Max Torque  ...  Turning Radius  \\\n",
       "0  1.0L TSI Petrol          999  175nm@1750-4000rpm  ...             4.9   \n",
       "\n",
       "   Front Brake Type Rear Brake Type        Tyre Type Alloy Wheel Size  \\\n",
       "0              Disc            Drum  Tubeless,Radial              R16   \n",
       "\n",
       "  No Door Numbers Cargo Volumn Top Speed Acceleration Ground Clearance Unladen  \n",
       "0               5          280       NaN          NaN                      NaN  \n",
       "\n",
       "[1 rows x 40 columns]"
      ]
     },
     "execution_count": 51,
     "metadata": {},
     "output_type": "execute_result"
    }
   ],
   "source": [
    "# Unpacking the dictionary column new_car_specs\n",
    "\n",
    "def process_specifications(row):\n",
    "    specs = {}\n",
    "\n",
    "    # Flatten 'top' values\n",
    "    for item in row['top']:\n",
    "        specs[item['key']] = item['value']\n",
    "    \n",
    "    # Flatten 'data' values\n",
    "    for data_item in row.get('data', []):\n",
    "        for sub_item in data_item.get('list', []):\n",
    "            specs[sub_item['key']] = sub_item['value']\n",
    "    \n",
    "    return specs\n",
    "\n",
    "specs_unpacked = merged_df['new_car_specs'].apply(lambda row: pd.Series(process_specifications(row)))\n",
    "\n",
    "specs_unpacked.head(1)"
   ]
  },
  {
   "cell_type": "code",
   "execution_count": 52,
   "id": "e0563f99-21c9-4b68-b741-d30f72dd6da6",
   "metadata": {},
   "outputs": [],
   "source": [
    "combined_unpacked_df = pd.concat([details_unpacked,overview_unpacked,features_unpacked,specs_unpacked,merged_df['Location']],axis=1)"
   ]
  },
  {
   "cell_type": "code",
   "execution_count": 53,
   "id": "d874de14-b9a7-4045-b74d-eafba2229511",
   "metadata": {},
   "outputs": [],
   "source": [
    "# saving it into excel file\n",
    "combined_unpacked_df.to_excel('combined_unpacked_df_full.xlsx',index=False)"
   ]
  },
  {
   "cell_type": "code",
   "execution_count": 54,
   "id": "cc361fc9-be76-4d81-b6aa-a0c4c85009fb",
   "metadata": {},
   "outputs": [],
   "source": [
    "df = pd.read_excel('combined_unpacked_df_full.xlsx')"
   ]
  },
  {
   "cell_type": "code",
   "execution_count": 55,
   "id": "5886b9bd-30c5-4f6c-b7f2-d22a5a3ae884",
   "metadata": {},
   "outputs": [
    {
     "data": {
      "text/html": [
       "<div>\n",
       "<style scoped>\n",
       "    .dataframe tbody tr th:only-of-type {\n",
       "        vertical-align: middle;\n",
       "    }\n",
       "\n",
       "    .dataframe tbody tr th {\n",
       "        vertical-align: top;\n",
       "    }\n",
       "\n",
       "    .dataframe thead th {\n",
       "        text-align: right;\n",
       "    }\n",
       "</style>\n",
       "<table border=\"1\" class=\"dataframe\">\n",
       "  <thead>\n",
       "    <tr style=\"text-align: right;\">\n",
       "      <th></th>\n",
       "      <th>it</th>\n",
       "      <th>ft</th>\n",
       "      <th>bt</th>\n",
       "      <th>km</th>\n",
       "      <th>transmission</th>\n",
       "      <th>ownerNo</th>\n",
       "      <th>owner</th>\n",
       "      <th>oem</th>\n",
       "      <th>model</th>\n",
       "      <th>modelYear</th>\n",
       "      <th>...</th>\n",
       "      <th>Front Brake Type</th>\n",
       "      <th>Rear Brake Type</th>\n",
       "      <th>Tyre Type</th>\n",
       "      <th>Alloy Wheel Size</th>\n",
       "      <th>No Door Numbers</th>\n",
       "      <th>Cargo Volumn</th>\n",
       "      <th>Top Speed</th>\n",
       "      <th>Acceleration</th>\n",
       "      <th>Ground Clearance Unladen</th>\n",
       "      <th>Location</th>\n",
       "    </tr>\n",
       "  </thead>\n",
       "  <tbody>\n",
       "    <tr>\n",
       "      <th>0</th>\n",
       "      <td>0</td>\n",
       "      <td>Petrol</td>\n",
       "      <td>Hatchback</td>\n",
       "      <td>20,000</td>\n",
       "      <td>Automatic</td>\n",
       "      <td>1</td>\n",
       "      <td>1st Owner</td>\n",
       "      <td>Volkswagen</td>\n",
       "      <td>Volkswagen Polo</td>\n",
       "      <td>2022</td>\n",
       "      <td>...</td>\n",
       "      <td>Disc</td>\n",
       "      <td>Drum</td>\n",
       "      <td>Tubeless,Radial</td>\n",
       "      <td>R16</td>\n",
       "      <td>5.0</td>\n",
       "      <td>280</td>\n",
       "      <td>NaN</td>\n",
       "      <td>NaN</td>\n",
       "      <td>NaN</td>\n",
       "      <td>Hyderabad</td>\n",
       "    </tr>\n",
       "  </tbody>\n",
       "</table>\n",
       "<p>1 rows × 243 columns</p>\n",
       "</div>"
      ],
      "text/plain": [
       "   it      ft         bt      km transmission  ownerNo      owner         oem  \\\n",
       "0   0  Petrol  Hatchback  20,000    Automatic        1  1st Owner  Volkswagen   \n",
       "\n",
       "             model  modelYear  ...  Front Brake Type Rear Brake Type  \\\n",
       "0  Volkswagen Polo       2022  ...              Disc            Drum   \n",
       "\n",
       "         Tyre Type Alloy Wheel Size  No Door Numbers  Cargo Volumn Top Speed  \\\n",
       "0  Tubeless,Radial              R16              5.0           280       NaN   \n",
       "\n",
       "  Acceleration Ground Clearance Unladen   Location  \n",
       "0          NaN                      NaN  Hyderabad  \n",
       "\n",
       "[1 rows x 243 columns]"
      ]
     },
     "execution_count": 55,
     "metadata": {},
     "output_type": "execute_result"
    }
   ],
   "source": [
    "df.head(1)"
   ]
  },
  {
   "cell_type": "code",
   "execution_count": 56,
   "id": "e6ae7340-5423-492c-b1ef-206934fc1436",
   "metadata": {},
   "outputs": [
    {
     "name": "stdout",
     "output_type": "stream",
     "text": [
      "it                    1\n",
      "ft                    5\n",
      "bt                   10\n",
      "km                 4090\n",
      "transmission          2\n",
      "                   ... \n",
      "No Door Numbers       5\n",
      "Cargo Volumn        321\n",
      "Top Speed           305\n",
      "Acceleration        332\n",
      "Location              6\n",
      "Length: 122, dtype: int64\n",
      "85\n",
      "0\n"
     ]
    }
   ],
   "source": [
    "# Remove columns where more than 50% of the data is missing.\n",
    "\n",
    "threshold = len(df) * 0.5\n",
    "df.dropna(axis=1, thresh=threshold,inplace=True)\n",
    "\n",
    "print(df.nunique())\n",
    "# Discard columns that contain only a single unique value.\n",
    "df = df.loc[:, df.nunique() > 1]\n",
    "\n",
    "# Checking for duplicate rows and drop those rows \n",
    "print(df.duplicated().sum())\n",
    "df.drop_duplicates(keep='first',inplace=True)   \n",
    "print(df.duplicated().sum())"
   ]
  },
  {
   "cell_type": "code",
   "execution_count": 57,
   "id": "bc512069-3368-41f8-a1d7-eeac5f2c67b3",
   "metadata": {},
   "outputs": [
    {
     "name": "stdout",
     "output_type": "stream",
     "text": [
      "['ft', 'bt', 'km', 'transmission', 'ownerNo', 'oem', 'model', 'modelYear', 'variantName', 'price', 'Insurance Validity', 'RTO', 'Mileage', 'Color', 'Engine Type', 'Displacement', 'No of Cylinder', 'Fuel Suppy System', 'Turbo Charger', 'Super Charger', 'Gear Box', 'Drive Type', 'Seating Capacity', 'Steering Type', 'Front Brake Type', 'Rear Brake Type', 'Tyre Type', 'No Door Numbers', 'Location']\n"
     ]
    },
    {
     "data": {
      "text/html": [
       "<div>\n",
       "<style scoped>\n",
       "    .dataframe tbody tr th:only-of-type {\n",
       "        vertical-align: middle;\n",
       "    }\n",
       "\n",
       "    .dataframe tbody tr th {\n",
       "        vertical-align: top;\n",
       "    }\n",
       "\n",
       "    .dataframe thead th {\n",
       "        text-align: right;\n",
       "    }\n",
       "</style>\n",
       "<table border=\"1\" class=\"dataframe\">\n",
       "  <thead>\n",
       "    <tr style=\"text-align: right;\">\n",
       "      <th></th>\n",
       "      <th>ft</th>\n",
       "      <th>bt</th>\n",
       "      <th>km</th>\n",
       "      <th>transmission</th>\n",
       "      <th>ownerNo</th>\n",
       "      <th>oem</th>\n",
       "      <th>model</th>\n",
       "      <th>modelYear</th>\n",
       "      <th>variantName</th>\n",
       "      <th>price</th>\n",
       "      <th>...</th>\n",
       "      <th>Super Charger</th>\n",
       "      <th>Gear Box</th>\n",
       "      <th>Drive Type</th>\n",
       "      <th>Seating Capacity</th>\n",
       "      <th>Steering Type</th>\n",
       "      <th>Front Brake Type</th>\n",
       "      <th>Rear Brake Type</th>\n",
       "      <th>Tyre Type</th>\n",
       "      <th>No Door Numbers</th>\n",
       "      <th>Location</th>\n",
       "    </tr>\n",
       "  </thead>\n",
       "  <tbody>\n",
       "    <tr>\n",
       "      <th>0</th>\n",
       "      <td>Petrol</td>\n",
       "      <td>Hatchback</td>\n",
       "      <td>20,000</td>\n",
       "      <td>Automatic</td>\n",
       "      <td>1</td>\n",
       "      <td>Volkswagen</td>\n",
       "      <td>Volkswagen Polo</td>\n",
       "      <td>2022</td>\n",
       "      <td>1.0 TSI Highline Plus AT</td>\n",
       "      <td>₹ 10.44 Lakh</td>\n",
       "      <td>...</td>\n",
       "      <td>No</td>\n",
       "      <td>6 Speed</td>\n",
       "      <td>FWD</td>\n",
       "      <td>5.0</td>\n",
       "      <td>Electronic</td>\n",
       "      <td>Disc</td>\n",
       "      <td>Drum</td>\n",
       "      <td>Tubeless,Radial</td>\n",
       "      <td>5.0</td>\n",
       "      <td>Hyderabad</td>\n",
       "    </tr>\n",
       "  </tbody>\n",
       "</table>\n",
       "<p>1 rows × 29 columns</p>\n",
       "</div>"
      ],
      "text/plain": [
       "       ft         bt      km transmission  ownerNo         oem  \\\n",
       "0  Petrol  Hatchback  20,000    Automatic        1  Volkswagen   \n",
       "\n",
       "             model  modelYear               variantName         price  ...  \\\n",
       "0  Volkswagen Polo       2022  1.0 TSI Highline Plus AT  ₹ 10.44 Lakh  ...   \n",
       "\n",
       "  Super Charger Gear Box Drive Type Seating Capacity Steering Type  \\\n",
       "0            No  6 Speed        FWD              5.0    Electronic   \n",
       "\n",
       "   Front Brake Type  Rear Brake Type        Tyre Type No Door Numbers  \\\n",
       "0              Disc             Drum  Tubeless,Radial             5.0   \n",
       "\n",
       "    Location  \n",
       "0  Hyderabad  \n",
       "\n",
       "[1 rows x 29 columns]"
      ]
     },
     "execution_count": 57,
     "metadata": {},
     "output_type": "execute_result"
    }
   ],
   "source": [
    "# Remove columns that are either duplicates, contain the same data, or are unnecessary, even if they have different names.\n",
    "df.drop(['owner','centralVariantId','Fuel Type','Registration Year','Year of Manufacture','Engine Displacement','Transmission','Max Power','Torque','Wheel Size','Seats.1','Engine','Torque','Length','Width','Height','Wheel Base','Front Tread','Rear Tread','Kerb Weight','Values per Cylinder','Value Configuration','Seats','Turning Radius','Top Speed','Acceleration','Alloy Wheel Size','Kms Driven','Ownership','Max Torque','Cargo Volumn'],axis=1,inplace=True)\n",
    "\n",
    "print(df.columns.tolist())\n",
    "df.head(1)"
   ]
  },
  {
   "cell_type": "code",
   "execution_count": 58,
   "id": "e1cfc570-4c53-4365-aeff-979be5d16355",
   "metadata": {},
   "outputs": [
    {
     "data": {
      "text/plain": [
       "ft                     object\n",
       "bt                     object\n",
       "km                     object\n",
       "transmission           object\n",
       "ownerNo                 int64\n",
       "oem                    object\n",
       "model                  object\n",
       "modelYear               int64\n",
       "variantName            object\n",
       "price                  object\n",
       "Insurance Validity     object\n",
       "RTO                    object\n",
       "Mileage                object\n",
       "Color                  object\n",
       "Engine Type            object\n",
       "Displacement          float64\n",
       "No of Cylinder        float64\n",
       "Fuel Suppy System      object\n",
       "Turbo Charger          object\n",
       "Super Charger          object\n",
       "Gear Box               object\n",
       "Drive Type             object\n",
       "Seating Capacity      float64\n",
       "Steering Type          object\n",
       "Front Brake Type       object\n",
       "Rear Brake Type        object\n",
       "Tyre Type              object\n",
       "No Door Numbers       float64\n",
       "Location               object\n",
       "dtype: object"
      ]
     },
     "execution_count": 58,
     "metadata": {},
     "output_type": "execute_result"
    }
   ],
   "source": [
    "df.dtypes"
   ]
  },
  {
   "cell_type": "code",
   "execution_count": 59,
   "id": "019116d3-4624-4247-9cb7-b971eaadda77",
   "metadata": {},
   "outputs": [],
   "source": [
    "# function to convert price from string to numerical\n",
    "def convert_price(price_str):\n",
    "    # Remove the currency symbol and commas\n",
    "    price_str = re.sub(r'[₹,]', '', price_str).strip()\n",
    "    \n",
    "    # Handle different units\n",
    "    if 'Crore' in price_str:\n",
    "        price_str = price_str.replace('Crore', '').strip()\n",
    "        return float(price_str) * 10000000  # Convert to the base unit (e.g., rupees)\n",
    "    elif 'Lakh' in price_str:\n",
    "        price_str = price_str.replace('Lakh', '').strip()\n",
    "        return float(price_str) * 100000  # Convert to the base unit (e.g., rupees)\n",
    "    elif 'Thousand' in price_str:\n",
    "        price_str = price_str.replace('Thousand', '').strip()\n",
    "        return float(price_str) * 1000  # Convert to the base unit (e.g., rupees)\n",
    "    else:\n",
    "        return float(price_str)  # Assume it's already in the base unit (e.g., rupees)\n",
    "\n",
    "# Apply the conversion function to the 'price' column\n",
    "df['price'] = df['price'].apply(convert_price)"
   ]
  },
  {
   "cell_type": "code",
   "execution_count": 60,
   "id": "a19a038c-ffae-4e83-b307-e51545d19224",
   "metadata": {},
   "outputs": [
    {
     "name": "stdout",
     "output_type": "stream",
     "text": [
      "0\n"
     ]
    },
    {
     "data": {
      "text/html": [
       "<div>\n",
       "<style scoped>\n",
       "    .dataframe tbody tr th:only-of-type {\n",
       "        vertical-align: middle;\n",
       "    }\n",
       "\n",
       "    .dataframe tbody tr th {\n",
       "        vertical-align: top;\n",
       "    }\n",
       "\n",
       "    .dataframe thead th {\n",
       "        text-align: right;\n",
       "    }\n",
       "</style>\n",
       "<table border=\"1\" class=\"dataframe\">\n",
       "  <thead>\n",
       "    <tr style=\"text-align: right;\">\n",
       "      <th></th>\n",
       "      <th>ft</th>\n",
       "      <th>bt</th>\n",
       "      <th>km</th>\n",
       "      <th>transmission</th>\n",
       "      <th>ownerNo</th>\n",
       "      <th>oem</th>\n",
       "      <th>model</th>\n",
       "      <th>modelYear</th>\n",
       "      <th>variantName</th>\n",
       "      <th>price</th>\n",
       "      <th>...</th>\n",
       "      <th>Super Charger</th>\n",
       "      <th>Gear Box</th>\n",
       "      <th>Drive Type</th>\n",
       "      <th>Seating Capacity</th>\n",
       "      <th>Steering Type</th>\n",
       "      <th>Front Brake Type</th>\n",
       "      <th>Rear Brake Type</th>\n",
       "      <th>Tyre Type</th>\n",
       "      <th>No Door Numbers</th>\n",
       "      <th>Location</th>\n",
       "    </tr>\n",
       "  </thead>\n",
       "  <tbody>\n",
       "    <tr>\n",
       "      <th>0</th>\n",
       "      <td>Petrol</td>\n",
       "      <td>Hatchback</td>\n",
       "      <td>20000.0</td>\n",
       "      <td>Automatic</td>\n",
       "      <td>1</td>\n",
       "      <td>Volkswagen</td>\n",
       "      <td>Volkswagen Polo</td>\n",
       "      <td>2022</td>\n",
       "      <td>1.0 TSI Highline Plus AT</td>\n",
       "      <td>1044000.0</td>\n",
       "      <td>...</td>\n",
       "      <td>No</td>\n",
       "      <td>6 Speed</td>\n",
       "      <td>FWD</td>\n",
       "      <td>5.0</td>\n",
       "      <td>Electronic</td>\n",
       "      <td>Disc</td>\n",
       "      <td>Drum</td>\n",
       "      <td>Tubeless,Radial</td>\n",
       "      <td>5.0</td>\n",
       "      <td>Hyderabad</td>\n",
       "    </tr>\n",
       "  </tbody>\n",
       "</table>\n",
       "<p>1 rows × 29 columns</p>\n",
       "</div>"
      ],
      "text/plain": [
       "       ft         bt       km transmission  ownerNo         oem  \\\n",
       "0  Petrol  Hatchback  20000.0    Automatic        1  Volkswagen   \n",
       "\n",
       "             model  modelYear               variantName      price  ...  \\\n",
       "0  Volkswagen Polo       2022  1.0 TSI Highline Plus AT  1044000.0  ...   \n",
       "\n",
       "  Super Charger Gear Box Drive Type Seating Capacity Steering Type  \\\n",
       "0            No  6 Speed        FWD              5.0    Electronic   \n",
       "\n",
       "   Front Brake Type  Rear Brake Type        Tyre Type No Door Numbers  \\\n",
       "0              Disc             Drum  Tubeless,Radial             5.0   \n",
       "\n",
       "    Location  \n",
       "0  Hyderabad  \n",
       "\n",
       "[1 rows x 29 columns]"
      ]
     },
     "execution_count": 60,
     "metadata": {},
     "output_type": "execute_result"
    }
   ],
   "source": [
    "print(df['km'].isna().sum())\n",
    "\n",
    "def convert_km(km_str):\n",
    "    # Remove commas\n",
    "    km_str = re.sub(r',', '', km_str).strip()\n",
    "    # Convert to float\n",
    "    return float(km_str)\n",
    "\n",
    "# Apply the conversion function to the 'km' column\n",
    "df['km'] = df['km'].apply(convert_km)\n",
    "df.head(1)"
   ]
  },
  {
   "cell_type": "code",
   "execution_count": 61,
   "id": "a6f35bdc-c4fd-4fb5-95b4-2a3c9d300f6f",
   "metadata": {},
   "outputs": [
    {
     "data": {
      "text/html": [
       "<div>\n",
       "<style scoped>\n",
       "    .dataframe tbody tr th:only-of-type {\n",
       "        vertical-align: middle;\n",
       "    }\n",
       "\n",
       "    .dataframe tbody tr th {\n",
       "        vertical-align: top;\n",
       "    }\n",
       "\n",
       "    .dataframe thead th {\n",
       "        text-align: right;\n",
       "    }\n",
       "</style>\n",
       "<table border=\"1\" class=\"dataframe\">\n",
       "  <thead>\n",
       "    <tr style=\"text-align: right;\">\n",
       "      <th></th>\n",
       "      <th>ft</th>\n",
       "      <th>bt</th>\n",
       "      <th>km</th>\n",
       "      <th>transmission</th>\n",
       "      <th>ownerNo</th>\n",
       "      <th>oem</th>\n",
       "      <th>model</th>\n",
       "      <th>modelYear</th>\n",
       "      <th>variantName</th>\n",
       "      <th>price</th>\n",
       "      <th>...</th>\n",
       "      <th>Super Charger</th>\n",
       "      <th>Gear Box</th>\n",
       "      <th>Drive Type</th>\n",
       "      <th>Seating Capacity</th>\n",
       "      <th>Steering Type</th>\n",
       "      <th>Front Brake Type</th>\n",
       "      <th>Rear Brake Type</th>\n",
       "      <th>Tyre Type</th>\n",
       "      <th>No Door Numbers</th>\n",
       "      <th>Location</th>\n",
       "    </tr>\n",
       "  </thead>\n",
       "  <tbody>\n",
       "    <tr>\n",
       "      <th>0</th>\n",
       "      <td>Petrol</td>\n",
       "      <td>Hatchback</td>\n",
       "      <td>20000.0</td>\n",
       "      <td>Automatic</td>\n",
       "      <td>1</td>\n",
       "      <td>Volkswagen</td>\n",
       "      <td>Volkswagen Polo</td>\n",
       "      <td>2022</td>\n",
       "      <td>1.0 TSI Highline Plus AT</td>\n",
       "      <td>1044000.0</td>\n",
       "      <td>...</td>\n",
       "      <td>No</td>\n",
       "      <td>6 Speed</td>\n",
       "      <td>FWD</td>\n",
       "      <td>5.0</td>\n",
       "      <td>Electronic</td>\n",
       "      <td>Disc</td>\n",
       "      <td>Drum</td>\n",
       "      <td>Tubeless,Radial</td>\n",
       "      <td>5.0</td>\n",
       "      <td>Hyderabad</td>\n",
       "    </tr>\n",
       "  </tbody>\n",
       "</table>\n",
       "<p>1 rows × 29 columns</p>\n",
       "</div>"
      ],
      "text/plain": [
       "       ft         bt       km transmission  ownerNo         oem  \\\n",
       "0  Petrol  Hatchback  20000.0    Automatic        1  Volkswagen   \n",
       "\n",
       "             model  modelYear               variantName      price  ...  \\\n",
       "0  Volkswagen Polo       2022  1.0 TSI Highline Plus AT  1044000.0  ...   \n",
       "\n",
       "  Super Charger Gear Box  Drive Type Seating Capacity Steering Type  \\\n",
       "0            No  6 Speed         FWD              5.0    Electronic   \n",
       "\n",
       "   Front Brake Type  Rear Brake Type        Tyre Type No Door Numbers  \\\n",
       "0              Disc             Drum  Tubeless,Radial             5.0   \n",
       "\n",
       "    Location  \n",
       "0  Hyderabad  \n",
       "\n",
       "[1 rows x 29 columns]"
      ]
     },
     "execution_count": 61,
     "metadata": {},
     "output_type": "execute_result"
    }
   ],
   "source": [
    "def clean_mileage(value):\n",
    "    if pd.isna(value):\n",
    "        return np.nan\n",
    "\n",
    "    value = str(value).strip().lower()\n",
    "\n",
    "    if 'km/kg' in value:\n",
    "        numeric_value = re.sub(r'[^\\d.]', '', value)\n",
    "        numeric_value = numeric_value.rstrip('.')\n",
    "        value_float = float(numeric_value)*0.74\n",
    "        return value_float\n",
    "\n",
    "    else:\n",
    "        numeric_value = re.sub(r'[^\\d.]', '', value)\n",
    "        numeric_value = numeric_value.rstrip('.')\n",
    "        value_float = float(numeric_value)\n",
    "        return value_float\n",
    "\n",
    "df['Mileage'] = df['Mileage'].apply(clean_mileage)\n",
    "df.head(1)"
   ]
  },
  {
   "cell_type": "code",
   "execution_count": 62,
   "id": "5e0abb42-baf2-472b-aaab-fd2a8473d704",
   "metadata": {},
   "outputs": [
    {
     "name": "stderr",
     "output_type": "stream",
     "text": [
      "C:\\Users\\Gowtham R\\AppData\\Local\\Temp\\ipykernel_7816\\744595438.py:2: FutureWarning: A value is trying to be set on a copy of a DataFrame or Series through chained assignment using an inplace method.\n",
      "The behavior will change in pandas 3.0. This inplace method will never work because the intermediate object on which we are setting values always behaves as a copy.\n",
      "\n",
      "For example, when doing 'df[col].method(value, inplace=True)', try using 'df.method({col: value}, inplace=True)' or df[col] = df[col].method(value) instead, to perform the operation inplace on the original object.\n",
      "\n",
      "\n",
      "  df['Mileage'].fillna(df['Mileage'].mean().round(2), inplace=True)\n",
      "C:\\Users\\Gowtham R\\AppData\\Local\\Temp\\ipykernel_7816\\744595438.py:3: FutureWarning: A value is trying to be set on a copy of a DataFrame or Series through chained assignment using an inplace method.\n",
      "The behavior will change in pandas 3.0. This inplace method will never work because the intermediate object on which we are setting values always behaves as a copy.\n",
      "\n",
      "For example, when doing 'df[col].method(value, inplace=True)', try using 'df.method({col: value}, inplace=True)' or df[col] = df[col].method(value) instead, to perform the operation inplace on the original object.\n",
      "\n",
      "\n",
      "  df['Displacement'].fillna(df['Displacement'].median(), inplace=True)\n",
      "C:\\Users\\Gowtham R\\AppData\\Local\\Temp\\ipykernel_7816\\744595438.py:4: FutureWarning: A value is trying to be set on a copy of a DataFrame or Series through chained assignment using an inplace method.\n",
      "The behavior will change in pandas 3.0. This inplace method will never work because the intermediate object on which we are setting values always behaves as a copy.\n",
      "\n",
      "For example, when doing 'df[col].method(value, inplace=True)', try using 'df.method({col: value}, inplace=True)' or df[col] = df[col].method(value) instead, to perform the operation inplace on the original object.\n",
      "\n",
      "\n",
      "  df['No of Cylinder'].fillna(df['No of Cylinder'].median(), inplace=True)\n",
      "C:\\Users\\Gowtham R\\AppData\\Local\\Temp\\ipykernel_7816\\744595438.py:5: FutureWarning: A value is trying to be set on a copy of a DataFrame or Series through chained assignment using an inplace method.\n",
      "The behavior will change in pandas 3.0. This inplace method will never work because the intermediate object on which we are setting values always behaves as a copy.\n",
      "\n",
      "For example, when doing 'df[col].method(value, inplace=True)', try using 'df.method({col: value}, inplace=True)' or df[col] = df[col].method(value) instead, to perform the operation inplace on the original object.\n",
      "\n",
      "\n",
      "  df['Seating Capacity'].fillna(df['Seating Capacity'].mode()[0], inplace=True)\n",
      "C:\\Users\\Gowtham R\\AppData\\Local\\Temp\\ipykernel_7816\\744595438.py:6: FutureWarning: A value is trying to be set on a copy of a DataFrame or Series through chained assignment using an inplace method.\n",
      "The behavior will change in pandas 3.0. This inplace method will never work because the intermediate object on which we are setting values always behaves as a copy.\n",
      "\n",
      "For example, when doing 'df[col].method(value, inplace=True)', try using 'df.method({col: value}, inplace=True)' or df[col] = df[col].method(value) instead, to perform the operation inplace on the original object.\n",
      "\n",
      "\n",
      "  df['No Door Numbers'].fillna(df['Seating Capacity'].mode()[0], inplace=True)\n"
     ]
    }
   ],
   "source": [
    "# filling null values in numerical columns with mean, median or mode \n",
    "df['Mileage'].fillna(df['Mileage'].mean().round(2), inplace=True)\n",
    "df['Displacement'].fillna(df['Displacement'].median(), inplace=True)\n",
    "df['No of Cylinder'].fillna(df['No of Cylinder'].median(), inplace=True)\n",
    "df['Seating Capacity'].fillna(df['Seating Capacity'].mode()[0], inplace=True)\n",
    "df['No Door Numbers'].fillna(df['Seating Capacity'].mode()[0], inplace=True)"
   ]
  },
  {
   "cell_type": "code",
   "execution_count": 63,
   "id": "a8c0351b-9eb7-4319-92df-a9796ef4ef32",
   "metadata": {},
   "outputs": [
    {
     "data": {
      "text/plain": [
       "ft                       0\n",
       "bt                       4\n",
       "km                       0\n",
       "transmission             0\n",
       "ownerNo                  0\n",
       "oem                      0\n",
       "model                    0\n",
       "modelYear                0\n",
       "variantName              0\n",
       "price                    0\n",
       "Insurance Validity       4\n",
       "RTO                    874\n",
       "Mileage                  0\n",
       "Color                    3\n",
       "Engine Type            290\n",
       "Displacement             0\n",
       "No of Cylinder           0\n",
       "Fuel Suppy System     1708\n",
       "Turbo Charger         1029\n",
       "Super Charger         1938\n",
       "Gear Box               106\n",
       "Drive Type            1540\n",
       "Seating Capacity         0\n",
       "Steering Type          254\n",
       "Front Brake Type        96\n",
       "Rear Brake Type         96\n",
       "Tyre Type               77\n",
       "No Door Numbers          0\n",
       "Location                 0\n",
       "dtype: int64"
      ]
     },
     "execution_count": 63,
     "metadata": {},
     "output_type": "execute_result"
    }
   ],
   "source": [
    "df.isna().sum()"
   ]
  },
  {
   "cell_type": "code",
   "execution_count": 64,
   "id": "ed0b4372-478d-431f-b925-f6252b953d04",
   "metadata": {},
   "outputs": [
    {
     "data": {
      "text/plain": [
       "(7838, 29)"
      ]
     },
     "execution_count": 64,
     "metadata": {},
     "output_type": "execute_result"
    }
   ],
   "source": [
    "# Remove outliers in the numerical columns using z-score\n",
    "# Function to remove outliers using Z-score\n",
    "def remove_outliers(df, columns, z_thresh=3):\n",
    "        for column in columns:\n",
    "        # Calculate Z-scores\n",
    "            z_scores = stats.zscore(df[column])\n",
    "        \n",
    "        # Filter out the outliers\n",
    "            df = df[(abs(z_scores) < z_thresh)]\n",
    "    \n",
    "        return df\n",
    "\n",
    "# Apply the function to the DataFrame\n",
    "columns_to_check = ['km','price','modelYear','Mileage','Displacement']\n",
    "df_outliers_removed = remove_outliers(df, columns_to_check)\n",
    "df_outliers_removed.shape"
   ]
  },
  {
   "cell_type": "code",
   "execution_count": 65,
   "id": "7df47f1e-6f2f-40fd-870e-48e129d419cb",
   "metadata": {},
   "outputs": [
    {
     "data": {
      "image/png": "[encoded data removed]",
      "text/plain": [
       "<Figure size 1200x900 with 2 Axes>"
      ]
     },
     "metadata": {},
     "output_type": "display_data"
    },
    {
     "name": "stdout",
     "output_type": "stream",
     "text": [
      "Correlation values with 'price':\n",
      "km                 -0.256213\n",
      "ownerNo            -0.169339\n",
      "modelYear           0.421369\n",
      "price               1.000000\n",
      "Mileage            -0.343811\n",
      "Displacement        0.565857\n",
      "No of Cylinder      0.245100\n",
      "Seating Capacity    0.137682\n",
      "No Door Numbers    -0.043681\n",
      "Name: price, dtype: float64\n"
     ]
    }
   ],
   "source": [
    "# Selecting only the numeric columns\n",
    "numeric_cols_df = df_outliers_removed.select_dtypes(include=['float64', 'int64'])\n",
    "\n",
    "# Create a correlation matrix for the numeric columns\n",
    "corr_matrix = numeric_cols_df.corr()\n",
    "\n",
    "# Visualize the correlation matrix as a heatmap\n",
    "plt.figure(figsize=(12, 9)) \n",
    "sns.heatmap(corr_matrix, annot=True, cmap='coolwarm', vmin=-1, vmax=1, linecolor='white', linewidths=1)  \n",
    "plt.title('Heatmap of Correlations Between Numerical Features', fontsize=16)\n",
    "plt.show()\n",
    "\n",
    "# Extracting correlations with 'price' column\n",
    "price_corr = corr_matrix['price']\n",
    "\n",
    "# Displaying the correlation values related to 'price'\n",
    "print(\"Correlation values with 'price':\")\n",
    "print(price_corr)"
   ]
  },
  {
   "cell_type": "code",
   "execution_count": 66,
   "id": "66c5acef-25b2-4061-8174-815d44fb2435",
   "metadata": {},
   "outputs": [
    {
     "name": "stderr",
     "output_type": "stream",
     "text": [
      "C:\\Users\\Gowtham R\\AppData\\Local\\Temp\\ipykernel_7816\\961066628.py:3: FutureWarning: \n",
      "\n",
      "Passing `palette` without assigning `hue` is deprecated and will be removed in v0.14.0. Assign the `x` variable to `hue` and set `legend=False` for the same effect.\n",
      "\n",
      "  sns.barplot(x=price_corr.index, y=price_corr.values, palette='RdYlBu')\n"
     ]
    },
    {
     "data": {
      "image/png": "[encoded data removed]",
      "text/plain": [
       "<Figure size 1200x700 with 1 Axes>"
      ]
     },
     "metadata": {},
     "output_type": "display_data"
    }
   ],
   "source": [
    "# Visualize the correlation of numerical columns with 'price' using a bar plot\n",
    "plt.figure(figsize=(12, 7)) \n",
    "sns.barplot(x=price_corr.index, y=price_corr.values, palette='RdYlBu') \n",
    "plt.title('Correlation of Numerical Features with Price', fontsize=16)\n",
    "plt.xlabel('Numerical Features', fontsize=12)\n",
    "plt.ylabel('Correlation Coefficient', fontsize=12)\n",
    "plt.xticks(rotation=45, ha='right') \n",
    "plt.tight_layout() \n",
    "plt.show()"
   ]
  },
  {
   "cell_type": "code",
   "execution_count": 96,
   "id": "4121578e-765c-4eec-904c-c14a2c6179c1",
   "metadata": {},
   "outputs": [],
   "source": [
    "#The features modelYear, engine displacement, and km show a strong correlation with price. \n",
    "# while Seating Capacity, No Door Numbers, and No of Cylinder can be removed as they have little impact on the price.\n",
    "# so we drop these columns\n",
    "df_outliers_removed.drop(['Seating Capacity','No Door Numbers','No of Cylinder'],axis=1,inplace=True)"
   ]
  },
  {
   "cell_type": "code",
   "execution_count": 98,
   "id": "0c81672c-3114-44a9-8417-ebd5721e5c23",
   "metadata": {},
   "outputs": [
    {
     "data": {
      "text/html": [
       "<div>\n",
       "<style scoped>\n",
       "    .dataframe tbody tr th:only-of-type {\n",
       "        vertical-align: middle;\n",
       "    }\n",
       "\n",
       "    .dataframe tbody tr th {\n",
       "        vertical-align: top;\n",
       "    }\n",
       "\n",
       "    .dataframe thead th {\n",
       "        text-align: right;\n",
       "    }\n",
       "</style>\n",
       "<table border=\"1\" class=\"dataframe\">\n",
       "  <thead>\n",
       "    <tr style=\"text-align: right;\">\n",
       "      <th></th>\n",
       "      <th>ft</th>\n",
       "      <th>bt</th>\n",
       "      <th>km</th>\n",
       "      <th>transmission</th>\n",
       "      <th>ownerNo</th>\n",
       "      <th>oem</th>\n",
       "      <th>model</th>\n",
       "      <th>modelYear</th>\n",
       "      <th>variantName</th>\n",
       "      <th>price</th>\n",
       "      <th>...</th>\n",
       "      <th>Fuel Suppy System</th>\n",
       "      <th>Turbo Charger</th>\n",
       "      <th>Super Charger</th>\n",
       "      <th>Gear Box</th>\n",
       "      <th>Drive Type</th>\n",
       "      <th>Steering Type</th>\n",
       "      <th>Front Brake Type</th>\n",
       "      <th>Rear Brake Type</th>\n",
       "      <th>Tyre Type</th>\n",
       "      <th>Location</th>\n",
       "    </tr>\n",
       "  </thead>\n",
       "  <tbody>\n",
       "    <tr>\n",
       "      <th>0</th>\n",
       "      <td>Petrol</td>\n",
       "      <td>Hatchback</td>\n",
       "      <td>20000.0</td>\n",
       "      <td>Automatic</td>\n",
       "      <td>1</td>\n",
       "      <td>Volkswagen</td>\n",
       "      <td>Volkswagen Polo</td>\n",
       "      <td>2022</td>\n",
       "      <td>1.0 TSI Highline Plus AT</td>\n",
       "      <td>1044000.0</td>\n",
       "      <td>...</td>\n",
       "      <td>TSI</td>\n",
       "      <td>Yes</td>\n",
       "      <td>No</td>\n",
       "      <td>6 Speed</td>\n",
       "      <td>FWD</td>\n",
       "      <td>Electronic</td>\n",
       "      <td>Disc</td>\n",
       "      <td>Drum</td>\n",
       "      <td>Tubeless,Radial</td>\n",
       "      <td>Hyderabad</td>\n",
       "    </tr>\n",
       "  </tbody>\n",
       "</table>\n",
       "<p>1 rows × 26 columns</p>\n",
       "</div>"
      ],
      "text/plain": [
       "       ft         bt       km transmission  ownerNo         oem  \\\n",
       "0  Petrol  Hatchback  20000.0    Automatic        1  Volkswagen   \n",
       "\n",
       "             model  modelYear               variantName      price  ...  \\\n",
       "0  Volkswagen Polo       2022  1.0 TSI Highline Plus AT  1044000.0  ...   \n",
       "\n",
       "  Fuel Suppy System Turbo Charger  Super Charger Gear Box Drive Type  \\\n",
       "0               TSI           Yes             No  6 Speed        FWD   \n",
       "\n",
       "   Steering Type Front Brake Type Rear Brake Type        Tyre Type   Location  \n",
       "0     Electronic             Disc            Drum  Tubeless,Radial  Hyderabad  \n",
       "\n",
       "[1 rows x 26 columns]"
      ]
     },
     "execution_count": 98,
     "metadata": {},
     "output_type": "execute_result"
    }
   ],
   "source": [
    "df_outliers_removed.head(1)"
   ]
  },
  {
   "cell_type": "code",
   "execution_count": 102,
   "id": "abd59688-dee1-4d23-919d-564331ea8dc7",
   "metadata": {},
   "outputs": [
    {
     "data": {
      "text/html": [
       "<div>\n",
       "<style scoped>\n",
       "    .dataframe tbody tr th:only-of-type {\n",
       "        vertical-align: middle;\n",
       "    }\n",
       "\n",
       "    .dataframe tbody tr th {\n",
       "        vertical-align: top;\n",
       "    }\n",
       "\n",
       "    .dataframe thead th {\n",
       "        text-align: right;\n",
       "    }\n",
       "</style>\n",
       "<table border=\"1\" class=\"dataframe\">\n",
       "  <thead>\n",
       "    <tr style=\"text-align: right;\">\n",
       "      <th></th>\n",
       "      <th>ft</th>\n",
       "      <th>bt</th>\n",
       "      <th>km</th>\n",
       "      <th>transmission</th>\n",
       "      <th>ownerNo</th>\n",
       "      <th>oem</th>\n",
       "      <th>model</th>\n",
       "      <th>modelYear</th>\n",
       "      <th>variantName</th>\n",
       "      <th>price</th>\n",
       "      <th>...</th>\n",
       "      <th>Fuel Suppy System</th>\n",
       "      <th>Turbo Charger</th>\n",
       "      <th>Super Charger</th>\n",
       "      <th>Gear Box</th>\n",
       "      <th>Drive Type</th>\n",
       "      <th>Steering Type</th>\n",
       "      <th>Front Brake Type</th>\n",
       "      <th>Rear Brake Type</th>\n",
       "      <th>Tyre Type</th>\n",
       "      <th>Location</th>\n",
       "    </tr>\n",
       "  </thead>\n",
       "  <tbody>\n",
       "    <tr>\n",
       "      <th>0</th>\n",
       "      <td>Petrol</td>\n",
       "      <td>Hatchback</td>\n",
       "      <td>20000.0</td>\n",
       "      <td>Automatic</td>\n",
       "      <td>1</td>\n",
       "      <td>Volkswagen</td>\n",
       "      <td>Volkswagen Polo</td>\n",
       "      <td>2022</td>\n",
       "      <td>1.0 TSI Highline Plus AT</td>\n",
       "      <td>1044000.0</td>\n",
       "      <td>...</td>\n",
       "      <td>TSI</td>\n",
       "      <td>Yes</td>\n",
       "      <td>No</td>\n",
       "      <td>6 Speed</td>\n",
       "      <td>FWD</td>\n",
       "      <td>Electronic</td>\n",
       "      <td>Disc</td>\n",
       "      <td>Drum</td>\n",
       "      <td>Tubeless,Radial</td>\n",
       "      <td>Hyderabad</td>\n",
       "    </tr>\n",
       "    <tr>\n",
       "      <th>1</th>\n",
       "      <td>Petrol</td>\n",
       "      <td>Hatchback</td>\n",
       "      <td>85582.0</td>\n",
       "      <td>Manual</td>\n",
       "      <td>2</td>\n",
       "      <td>Hyundai</td>\n",
       "      <td>Hyundai EON</td>\n",
       "      <td>2014</td>\n",
       "      <td>Era Plus</td>\n",
       "      <td>260000.0</td>\n",
       "      <td>...</td>\n",
       "      <td>MPFI</td>\n",
       "      <td>No</td>\n",
       "      <td>No</td>\n",
       "      <td>5 Speed</td>\n",
       "      <td>FWD</td>\n",
       "      <td>Power</td>\n",
       "      <td>Disc</td>\n",
       "      <td>Drum</td>\n",
       "      <td>Tubeless</td>\n",
       "      <td>Hyderabad</td>\n",
       "    </tr>\n",
       "    <tr>\n",
       "      <th>2</th>\n",
       "      <td>Petrol</td>\n",
       "      <td>SUV</td>\n",
       "      <td>10000.0</td>\n",
       "      <td>Manual</td>\n",
       "      <td>1</td>\n",
       "      <td>Hyundai</td>\n",
       "      <td>Hyundai Venue</td>\n",
       "      <td>2023</td>\n",
       "      <td>S BSVI</td>\n",
       "      <td>955000.0</td>\n",
       "      <td>...</td>\n",
       "      <td>NaN</td>\n",
       "      <td>No</td>\n",
       "      <td>NaN</td>\n",
       "      <td>5-Speed</td>\n",
       "      <td>NaN</td>\n",
       "      <td>Power</td>\n",
       "      <td>Disc</td>\n",
       "      <td>Drum</td>\n",
       "      <td>Tubeless, Radial</td>\n",
       "      <td>Hyderabad</td>\n",
       "    </tr>\n",
       "    <tr>\n",
       "      <th>3</th>\n",
       "      <td>Petrol</td>\n",
       "      <td>Hatchback</td>\n",
       "      <td>50750.0</td>\n",
       "      <td>Manual</td>\n",
       "      <td>1</td>\n",
       "      <td>Maruti</td>\n",
       "      <td>Maruti Baleno</td>\n",
       "      <td>2017</td>\n",
       "      <td>1.2 Alpha</td>\n",
       "      <td>671000.0</td>\n",
       "      <td>...</td>\n",
       "      <td>MPFI</td>\n",
       "      <td>No</td>\n",
       "      <td>No</td>\n",
       "      <td>5 Speed</td>\n",
       "      <td>FWD</td>\n",
       "      <td>Power</td>\n",
       "      <td>Disc</td>\n",
       "      <td>Drum</td>\n",
       "      <td>Tubeless,Radial</td>\n",
       "      <td>Hyderabad</td>\n",
       "    </tr>\n",
       "    <tr>\n",
       "      <th>4</th>\n",
       "      <td>Petrol</td>\n",
       "      <td>SUV</td>\n",
       "      <td>10000.0</td>\n",
       "      <td>Automatic</td>\n",
       "      <td>1</td>\n",
       "      <td>Mahindra</td>\n",
       "      <td>Mahindra Thar</td>\n",
       "      <td>2022</td>\n",
       "      <td>LX 4-Str Hard Top AT BSVI</td>\n",
       "      <td>1900000.0</td>\n",
       "      <td>...</td>\n",
       "      <td>NaN</td>\n",
       "      <td>Yes</td>\n",
       "      <td>NaN</td>\n",
       "      <td>6 Speed</td>\n",
       "      <td>4X4</td>\n",
       "      <td>Power</td>\n",
       "      <td>Disc</td>\n",
       "      <td>Drum</td>\n",
       "      <td>Radial, Tubeless</td>\n",
       "      <td>Hyderabad</td>\n",
       "    </tr>\n",
       "    <tr>\n",
       "      <th>...</th>\n",
       "      <td>...</td>\n",
       "      <td>...</td>\n",
       "      <td>...</td>\n",
       "      <td>...</td>\n",
       "      <td>...</td>\n",
       "      <td>...</td>\n",
       "      <td>...</td>\n",
       "      <td>...</td>\n",
       "      <td>...</td>\n",
       "      <td>...</td>\n",
       "      <td>...</td>\n",
       "      <td>...</td>\n",
       "      <td>...</td>\n",
       "      <td>...</td>\n",
       "      <td>...</td>\n",
       "      <td>...</td>\n",
       "      <td>...</td>\n",
       "      <td>...</td>\n",
       "      <td>...</td>\n",
       "      <td>...</td>\n",
       "      <td>...</td>\n",
       "    </tr>\n",
       "    <tr>\n",
       "      <th>8364</th>\n",
       "      <td>Petrol</td>\n",
       "      <td>Hatchback</td>\n",
       "      <td>120000.0</td>\n",
       "      <td>Manual</td>\n",
       "      <td>1</td>\n",
       "      <td>Chevrolet</td>\n",
       "      <td>Chevrolet Beat</td>\n",
       "      <td>2011</td>\n",
       "      <td>LT</td>\n",
       "      <td>108000.0</td>\n",
       "      <td>...</td>\n",
       "      <td>MPFI</td>\n",
       "      <td>No</td>\n",
       "      <td>No</td>\n",
       "      <td>5 Speed</td>\n",
       "      <td>FWD</td>\n",
       "      <td>Power</td>\n",
       "      <td>Disc</td>\n",
       "      <td>Drum</td>\n",
       "      <td>Tubeless,Radial</td>\n",
       "      <td>Jaipur</td>\n",
       "    </tr>\n",
       "    <tr>\n",
       "      <th>8365</th>\n",
       "      <td>Petrol</td>\n",
       "      <td>Hatchback</td>\n",
       "      <td>70000.0</td>\n",
       "      <td>Manual</td>\n",
       "      <td>1</td>\n",
       "      <td>Maruti</td>\n",
       "      <td>Maruti Alto</td>\n",
       "      <td>2007</td>\n",
       "      <td>STD</td>\n",
       "      <td>105000.0</td>\n",
       "      <td>...</td>\n",
       "      <td>MPFI</td>\n",
       "      <td>No</td>\n",
       "      <td>No</td>\n",
       "      <td>5 Speed</td>\n",
       "      <td>2WD</td>\n",
       "      <td>Manual</td>\n",
       "      <td>Disc</td>\n",
       "      <td>Drum</td>\n",
       "      <td>Tubeless,Radial</td>\n",
       "      <td>Jaipur</td>\n",
       "    </tr>\n",
       "    <tr>\n",
       "      <th>8366</th>\n",
       "      <td>Petrol</td>\n",
       "      <td>SUV</td>\n",
       "      <td>20000.0</td>\n",
       "      <td>Manual</td>\n",
       "      <td>1</td>\n",
       "      <td>Renault</td>\n",
       "      <td>Renault Kiger</td>\n",
       "      <td>2022</td>\n",
       "      <td>RXZ</td>\n",
       "      <td>850000.0</td>\n",
       "      <td>...</td>\n",
       "      <td>MPFi</td>\n",
       "      <td>NaN</td>\n",
       "      <td>NaN</td>\n",
       "      <td>5 Speed</td>\n",
       "      <td>NaN</td>\n",
       "      <td>Electric</td>\n",
       "      <td>Disc</td>\n",
       "      <td>Drum</td>\n",
       "      <td>Tubeless, Radial</td>\n",
       "      <td>Jaipur</td>\n",
       "    </tr>\n",
       "    <tr>\n",
       "      <th>8367</th>\n",
       "      <td>Petrol</td>\n",
       "      <td>Hatchback</td>\n",
       "      <td>40000.0</td>\n",
       "      <td>Manual</td>\n",
       "      <td>1</td>\n",
       "      <td>Maruti</td>\n",
       "      <td>Maruti Alto</td>\n",
       "      <td>2009</td>\n",
       "      <td>Std</td>\n",
       "      <td>100000.0</td>\n",
       "      <td>...</td>\n",
       "      <td>MPFI</td>\n",
       "      <td>No</td>\n",
       "      <td>No</td>\n",
       "      <td>5 Speed</td>\n",
       "      <td>2WD</td>\n",
       "      <td>Manual</td>\n",
       "      <td>Disc</td>\n",
       "      <td>Drum</td>\n",
       "      <td>Tubeless,Radial</td>\n",
       "      <td>Jaipur</td>\n",
       "    </tr>\n",
       "    <tr>\n",
       "      <th>8368</th>\n",
       "      <td>Petrol</td>\n",
       "      <td>Hatchback</td>\n",
       "      <td>80000.0</td>\n",
       "      <td>Manual</td>\n",
       "      <td>1</td>\n",
       "      <td>Maruti</td>\n",
       "      <td>Maruti Baleno</td>\n",
       "      <td>2018</td>\n",
       "      <td>1.2 Delta</td>\n",
       "      <td>500000.0</td>\n",
       "      <td>...</td>\n",
       "      <td>MPFI</td>\n",
       "      <td>No</td>\n",
       "      <td>No</td>\n",
       "      <td>5 Speed</td>\n",
       "      <td>FWD</td>\n",
       "      <td>Power</td>\n",
       "      <td>Disc</td>\n",
       "      <td>Drum</td>\n",
       "      <td>Tubeless,Radial</td>\n",
       "      <td>Jaipur</td>\n",
       "    </tr>\n",
       "  </tbody>\n",
       "</table>\n",
       "<p>7838 rows × 26 columns</p>\n",
       "</div>"
      ],
      "text/plain": [
       "          ft         bt        km transmission  ownerNo         oem  \\\n",
       "0     Petrol  Hatchback   20000.0    Automatic        1  Volkswagen   \n",
       "1     Petrol  Hatchback   85582.0       Manual        2     Hyundai   \n",
       "2     Petrol        SUV   10000.0       Manual        1     Hyundai   \n",
       "3     Petrol  Hatchback   50750.0       Manual        1      Maruti   \n",
       "4     Petrol        SUV   10000.0    Automatic        1    Mahindra   \n",
       "...      ...        ...       ...          ...      ...         ...   \n",
       "8364  Petrol  Hatchback  120000.0       Manual        1   Chevrolet   \n",
       "8365  Petrol  Hatchback   70000.0       Manual        1      Maruti   \n",
       "8366  Petrol        SUV   20000.0       Manual        1     Renault   \n",
       "8367  Petrol  Hatchback   40000.0       Manual        1      Maruti   \n",
       "8368  Petrol  Hatchback   80000.0       Manual        1      Maruti   \n",
       "\n",
       "                model  modelYear                variantName      price  ...  \\\n",
       "0     Volkswagen Polo       2022   1.0 TSI Highline Plus AT  1044000.0  ...   \n",
       "1         Hyundai EON       2014                   Era Plus   260000.0  ...   \n",
       "2       Hyundai Venue       2023                     S BSVI   955000.0  ...   \n",
       "3       Maruti Baleno       2017                  1.2 Alpha   671000.0  ...   \n",
       "4       Mahindra Thar       2022  LX 4-Str Hard Top AT BSVI  1900000.0  ...   \n",
       "...               ...        ...                        ...        ...  ...   \n",
       "8364   Chevrolet Beat       2011                         LT   108000.0  ...   \n",
       "8365      Maruti Alto       2007                        STD   105000.0  ...   \n",
       "8366    Renault Kiger       2022                        RXZ   850000.0  ...   \n",
       "8367      Maruti Alto       2009                        Std   100000.0  ...   \n",
       "8368    Maruti Baleno       2018                  1.2 Delta   500000.0  ...   \n",
       "\n",
       "     Fuel Suppy System Turbo Charger  Super Charger Gear Box Drive Type  \\\n",
       "0                  TSI           Yes             No  6 Speed        FWD   \n",
       "1                 MPFI            No             No  5 Speed        FWD   \n",
       "2                  NaN            No            NaN  5-Speed        NaN   \n",
       "3                 MPFI            No             No  5 Speed        FWD   \n",
       "4                  NaN           Yes            NaN  6 Speed        4X4   \n",
       "...                ...           ...            ...      ...        ...   \n",
       "8364              MPFI            No             No  5 Speed        FWD   \n",
       "8365              MPFI            No             No  5 Speed        2WD   \n",
       "8366              MPFi           NaN            NaN  5 Speed        NaN   \n",
       "8367              MPFI            No             No  5 Speed        2WD   \n",
       "8368              MPFI            No             No  5 Speed        FWD   \n",
       "\n",
       "      Steering Type Front Brake Type Rear Brake Type         Tyre Type  \\\n",
       "0        Electronic             Disc            Drum   Tubeless,Radial   \n",
       "1             Power             Disc            Drum          Tubeless   \n",
       "2             Power             Disc            Drum  Tubeless, Radial   \n",
       "3             Power             Disc            Drum   Tubeless,Radial   \n",
       "4             Power             Disc            Drum  Radial, Tubeless   \n",
       "...             ...              ...             ...               ...   \n",
       "8364          Power             Disc            Drum   Tubeless,Radial   \n",
       "8365         Manual             Disc            Drum   Tubeless,Radial   \n",
       "8366       Electric             Disc            Drum  Tubeless, Radial   \n",
       "8367         Manual             Disc            Drum   Tubeless,Radial   \n",
       "8368          Power             Disc            Drum   Tubeless,Radial   \n",
       "\n",
       "       Location  \n",
       "0     Hyderabad  \n",
       "1     Hyderabad  \n",
       "2     Hyderabad  \n",
       "3     Hyderabad  \n",
       "4     Hyderabad  \n",
       "...         ...  \n",
       "8364     Jaipur  \n",
       "8365     Jaipur  \n",
       "8366     Jaipur  \n",
       "8367     Jaipur  \n",
       "8368     Jaipur  \n",
       "\n",
       "[7838 rows x 26 columns]"
      ]
     },
     "execution_count": 102,
     "metadata": {},
     "output_type": "execute_result"
    }
   ],
   "source": [
    "#handling categorical datas\n",
    "df_outliers_removed"
   ]
  },
  {
   "cell_type": "code",
   "execution_count": 104,
   "id": "4360db8e-7b7d-43f2-9776-1934f3581954",
   "metadata": {},
   "outputs": [
    {
     "data": {
      "text/plain": [
       "ft\n",
       "Petrol    5360\n",
       "Diesel    2394\n",
       "Cng         68\n",
       "Lpg         16\n",
       "Name: count, dtype: int64"
      ]
     },
     "execution_count": 104,
     "metadata": {},
     "output_type": "execute_result"
    }
   ],
   "source": [
    "df_outliers_removed['ft'].value_counts()"
   ]
  },
  {
   "cell_type": "code",
   "execution_count": 106,
   "id": "6363cdc5-7c13-408a-ba25-1007439e4880",
   "metadata": {},
   "outputs": [
    {
     "data": {
      "image/png": "[encoded data removed]",
      "text/plain": [
       "<Figure size 1200x800 with 1 Axes>"
      ]
     },
     "metadata": {},
     "output_type": "display_data"
    }
   ],
   "source": [
    "plt.figure(figsize=(12, 8))\n",
    "average_prices = df_outliers_removed.groupby('ft')['price'].mean().sort_values()\n",
    "average_prices.plot(kind='bar')\n",
    "plt.xticks(rotation=90)\n",
    "plt.title('Average car price by fuel type')\n",
    "plt.xlabel('Fuel Type')\n",
    "plt.ylabel('Average Price')\n",
    "plt.show()"
   ]
  },
  {
   "cell_type": "code",
   "execution_count": null,
   "id": "9e821804-7996-4455-84eb-fb84e974d594",
   "metadata": {},
   "outputs": [],
   "source": [
    "# we need to keep this column because it shows price difference clearly"
   ]
  },
  {
   "cell_type": "code",
   "execution_count": 108,
   "id": "13e93b58-f32f-42f0-845b-b0a1ef411431",
   "metadata": {},
   "outputs": [
    {
     "data": {
      "text/plain": [
       "bt\n",
       "Hatchback        3478\n",
       "Sedan            2039\n",
       "SUV              1958\n",
       "MUV               331\n",
       "Minivans           19\n",
       "Pickup Trucks       5\n",
       "Coupe               2\n",
       "Convertibles        2\n",
       "Wagon               1\n",
       "Name: count, dtype: int64"
      ]
     },
     "execution_count": 108,
     "metadata": {},
     "output_type": "execute_result"
    }
   ],
   "source": [
    "df_outliers_removed['bt'].value_counts()"
   ]
  },
  {
   "cell_type": "code",
   "execution_count": 110,
   "id": "40b1e79b-f725-4dae-a17c-2620c1a6ae40",
   "metadata": {},
   "outputs": [
    {
     "name": "stdout",
     "output_type": "stream",
     "text": [
      "bt\n",
      "Hatchback    3478\n",
      "Sedan        2039\n",
      "SUV          1958\n",
      "MUV           331\n",
      "Minivans       19\n",
      "Other          10\n",
      "Name: count, dtype: int64\n"
     ]
    }
   ],
   "source": [
    "# we can either combine the last 4 categories into one 'others' category or just drop those rows \n",
    "df_outliers_removed['bt']= df_outliers_removed['bt'].replace('Pickup Trucks','Other')\n",
    "df_outliers_removed['bt']= df_outliers_removed['bt'].replace('Coupe','Other')\n",
    "df_outliers_removed['bt']= df_outliers_removed['bt'].replace('Convertibles','Other')\n",
    "df_outliers_removed['bt']= df_outliers_removed['bt'].replace('Wagon','Other')\n",
    "# here we combined the Pickup Trucks, Coupe, Convertibles, Wagon categories into 'Other'\n",
    "\n",
    "print(df_outliers_removed['bt'].value_counts())"
   ]
  },
  {
   "cell_type": "code",
   "execution_count": 112,
   "id": "ebd18cdd-18af-4a97-820d-1ee8085a390e",
   "metadata": {},
   "outputs": [
    {
     "name": "stdout",
     "output_type": "stream",
     "text": [
      "3\n",
      "0\n"
     ]
    }
   ],
   "source": [
    "print(df_outliers_removed['bt'].isna().sum())\n",
    "df_outliers_removed = df_outliers_removed.dropna(subset='bt')\n",
    "print(df_outliers_removed['bt'].isna().sum())"
   ]
  },
  {
   "cell_type": "code",
   "execution_count": 114,
   "id": "fdb6de81-7c01-41e4-b9c2-947bcab4dfb4",
   "metadata": {},
   "outputs": [
    {
     "data": {
      "image/png": "[encoded data removed]",
      "text/plain": [
       "<Figure size 1200x800 with 1 Axes>"
      ]
     },
     "metadata": {},
     "output_type": "display_data"
    }
   ],
   "source": [
    "plt.figure(figsize=(12, 8))\n",
    "average_prices = df_outliers_removed.groupby('bt')['price'].mean().sort_values()\n",
    "average_prices.plot(kind='bar')\n",
    "plt.xticks(rotation=90)\n",
    "plt.title('Average car price by body type')\n",
    "plt.xlabel('Body Type')\n",
    "plt.ylabel('Average Price')\n",
    "plt.show()\n"
   ]
  },
  {
   "cell_type": "code",
   "execution_count": 116,
   "id": "0c47dfa8-6d16-4a46-9c83-c8554f0ecb73",
   "metadata": {},
   "outputs": [],
   "source": [
    "# we need to keep this column because it shows price difference clearly"
   ]
  },
  {
   "cell_type": "code",
   "execution_count": 120,
   "id": "d8fbd2f4-33d0-425d-a3ce-1b7e561e4501",
   "metadata": {},
   "outputs": [
    {
     "data": {
      "text/plain": [
       "transmission\n",
       "Manual       5856\n",
       "Automatic    1979\n",
       "Name: count, dtype: int64"
      ]
     },
     "execution_count": 120,
     "metadata": {},
     "output_type": "execute_result"
    }
   ],
   "source": [
    "#transmission\n",
    "df_outliers_removed['transmission'].value_counts()\n",
    "#important so keep this"
   ]
  },
  {
   "cell_type": "code",
   "execution_count": 122,
   "id": "1baa8771-7cac-4878-8a0b-c5699de2c50e",
   "metadata": {},
   "outputs": [
    {
     "data": {
      "text/plain": [
       "oem\n",
       "Maruti                False\n",
       "Hyundai               False\n",
       "Honda                 False\n",
       "Tata                  False\n",
       "Mahindra              False\n",
       "Renault               False\n",
       "Volkswagen            False\n",
       "Ford                  False\n",
       "Toyota                False\n",
       "Skoda                 False\n",
       "Kia                   False\n",
       "Mercedes-Benz         False\n",
       "Audi                  False\n",
       "BMW                   False\n",
       "Jeep                  False\n",
       "MG                    False\n",
       "Nissan                False\n",
       "Chevrolet             False\n",
       "Datsun                False\n",
       "Volvo                 False\n",
       "Fiat                  False\n",
       "Jaguar                False\n",
       "Land Rover            False\n",
       "Mini                  False\n",
       "Mitsubishi            False\n",
       "Citroen               False\n",
       "Mahindra Renault       True\n",
       "Mahindra Ssangyong     True\n",
       "Lexus                  True\n",
       "Hindustan Motors       True\n",
       "Isuzu                  True\n",
       "Porsche                True\n",
       "Name: count, dtype: bool"
      ]
     },
     "execution_count": 122,
     "metadata": {},
     "output_type": "execute_result"
    }
   ],
   "source": [
    "df_outliers_removed['oem'].value_counts() <= 5"
   ]
  },
  {
   "cell_type": "code",
   "execution_count": 124,
   "id": "cd7190d6-dbc5-4637-9e7a-e373f2e40cf1",
   "metadata": {},
   "outputs": [
    {
     "name": "stdout",
     "output_type": "stream",
     "text": [
      "oem\n",
      "Maruti           2169\n",
      "Hyundai          1626\n",
      "Honda             852\n",
      "Tata              408\n",
      "Mahindra          365\n",
      "Renault           309\n",
      "Volkswagen        286\n",
      "Ford              283\n",
      "Toyota            245\n",
      "Skoda             158\n",
      "Kia               155\n",
      "Mercedes-Benz     151\n",
      "Audi              129\n",
      "BMW               122\n",
      "Jeep              108\n",
      "MG                 83\n",
      "Nissan             78\n",
      "Chevrolet          76\n",
      "Datsun             74\n",
      "Volvo              37\n",
      "Fiat               30\n",
      "Jaguar             25\n",
      "Land Rover         22\n",
      "Mini               11\n",
      "Mitsubishi          9\n",
      "Citroen             8\n",
      "Name: count, dtype: int64\n"
     ]
    }
   ],
   "source": [
    "# We drop the rows with brands having less than 5 cars \n",
    "\n",
    "oem_counts = df_outliers_removed['oem'].value_counts()\n",
    "df_outliers_removed = df_outliers_removed[df_outliers_removed['oem'].map(oem_counts) > 5]\n",
    "print(df_outliers_removed['oem'].value_counts())"
   ]
  },
  {
   "cell_type": "code",
   "execution_count": 126,
   "id": "56b327c9-ec97-4737-b059-7c9987033f25",
   "metadata": {},
   "outputs": [
    {
     "data": {
      "image/png": "[encoded data removed]",
      "text/plain": [
       "<Figure size 1200x800 with 1 Axes>"
      ]
     },
     "metadata": {},
     "output_type": "display_data"
    }
   ],
   "source": [
    "plt.figure(figsize=(12, 8))\n",
    "average_prices = df_outliers_removed.groupby('oem')['price'].mean().sort_values()\n",
    "average_prices.plot(kind='bar')\n",
    "plt.xticks(rotation=90)\n",
    "plt.title('Average car price by company')\n",
    "plt.xlabel('Company')\n",
    "plt.ylabel('Average Price')\n",
    "plt.show()"
   ]
  },
  {
   "cell_type": "code",
   "execution_count": 128,
   "id": "0caf8ff1-6a47-4905-9748-c5245006dbc5",
   "metadata": {},
   "outputs": [],
   "source": [
    "df_outliers_removed.rename(columns={'oem': 'company'}, inplace=True)"
   ]
  },
  {
   "cell_type": "code",
   "execution_count": 130,
   "id": "66b0ab6d-5adb-42b9-a1e9-cb0d450fdbd7",
   "metadata": {},
   "outputs": [
    {
     "name": "stdout",
     "output_type": "stream",
     "text": [
      "model\n",
      "Honda City              False\n",
      "Maruti Swift            False\n",
      "Hyundai i20             False\n",
      "Maruti Baleno           False\n",
      "Hyundai Grand i10       False\n",
      "                        ...  \n",
      "Mini 5 DOOR              True\n",
      "Fiat Punto Pure          True\n",
      "Volvo S 80               True\n",
      "Tata Aria                True\n",
      "Volkswagen CrossPolo     True\n",
      "Name: count, Length: 254, dtype: bool\n"
     ]
    }
   ],
   "source": [
    "#model\n",
    "print(df_outliers_removed['model'].value_counts() < 10)"
   ]
  },
  {
   "cell_type": "code",
   "execution_count": 132,
   "id": "354fd3cc-922f-4dc9-899d-ee7f69863bee",
   "metadata": {},
   "outputs": [
    {
     "name": "stdout",
     "output_type": "stream",
     "text": [
      "                    model  count\n",
      "133             Volvo S60      9\n",
      "134    Tata Safari Storme      9\n",
      "135        Ford Freestyle      9\n",
      "136           Skoda Laura      9\n",
      "137        Chevrolet Sail      9\n",
      "..                    ...    ...\n",
      "249           Mini 5 DOOR      1\n",
      "250       Fiat Punto Pure      1\n",
      "251            Volvo S 80      1\n",
      "252             Tata Aria      1\n",
      "253  Volkswagen CrossPolo      1\n",
      "\n",
      "[121 rows x 2 columns]\n"
     ]
    }
   ],
   "source": [
    "# checking models with less than 10 cars listed \n",
    "import pandas as pd\n",
    "\n",
    "# Assuming df_outliers_removed is your DataFrame\n",
    "value_counts = df_outliers_removed['model'].value_counts()\n",
    "\n",
    "# Convert the result to a DataFrame\n",
    "value_counts_df = value_counts.reset_index()\n",
    "\n",
    "# Rename the columns for better readability\n",
    "value_counts_df.columns = ['model', 'count']\n",
    "\n",
    "filtered_value_counts_df = value_counts_df[value_counts_df['count'] < 10]\n",
    "print(filtered_value_counts_df)"
   ]
  },
  {
   "cell_type": "code",
   "execution_count": 134,
   "id": "504198e0-a1ab-460b-b35a-8c54baa6a149",
   "metadata": {},
   "outputs": [
    {
     "data": {
      "text/plain": [
       "420"
      ]
     },
     "execution_count": 134,
     "metadata": {},
     "output_type": "execute_result"
    }
   ],
   "source": [
    "# we have 420 rows with the data of the models that have less than 10 cars \n",
    "filtered_value_counts_df['count'].sum()"
   ]
  },
  {
   "cell_type": "code",
   "execution_count": 136,
   "id": "77d6a1c9-f3ad-4b95-8e73-372c5495bc58",
   "metadata": {},
   "outputs": [
    {
     "name": "stdout",
     "output_type": "stream",
     "text": [
      "(7399, 26)\n"
     ]
    }
   ],
   "source": [
    "# Define the threshold\n",
    "threshold = 10\n",
    "\n",
    "# Identify models to keep and filter\n",
    "categories_to_keep_model = value_counts[value_counts >= threshold].index\n",
    "df_outliers_removed = df_outliers_removed[df_outliers_removed['model'].isin(categories_to_keep_model)]\n",
    "\n",
    "# Display the shape of the filtered DataFrame\n",
    "print(df_outliers_removed.shape)"
   ]
  },
  {
   "cell_type": "code",
   "execution_count": 138,
   "id": "d1a7900c-994e-4871-b4e9-5681f88a82a1",
   "metadata": {},
   "outputs": [
    {
     "data": {
      "text/plain": [
       "model\n",
       "Honda City                       363\n",
       "Maruti Swift                     348\n",
       "Hyundai i20                      328\n",
       "Maruti Baleno                    292\n",
       "Hyundai Grand i10                259\n",
       "                                ... \n",
       "Mahindra Marazzo                  10\n",
       "Mahindra XUV700                   10\n",
       "MG Gloster                        10\n",
       "Toyota Camry                      10\n",
       "Land Rover Range Rover Evoque     10\n",
       "Name: count, Length: 133, dtype: int64"
      ]
     },
     "execution_count": 138,
     "metadata": {},
     "output_type": "execute_result"
    }
   ],
   "source": [
    "df_outliers_removed['model'].value_counts()"
   ]
  },
  {
   "cell_type": "code",
   "execution_count": 140,
   "id": "2b805b63-faf5-4b97-90f2-0af4d8efd258",
   "metadata": {},
   "outputs": [],
   "source": [
    "#variant name\n",
    "# there are more than 250 models and many classes in Variant name,so we drop these.\n",
    "df_outliers_removed.drop('variantName',axis=1,inplace=True)"
   ]
  },
  {
   "cell_type": "code",
   "execution_count": 142,
   "id": "11e9d7f7-92e0-4c68-a5cf-5048868024d3",
   "metadata": {},
   "outputs": [
    {
     "data": {
      "text/plain": [
       "Insurance Validity\n",
       "Third Party insurance    3536\n",
       "Comprehensive            2753\n",
       "Third Party               609\n",
       "Zero Dep                  289\n",
       "Not Available             204\n",
       "1                           3\n",
       "2                           1\n",
       "Name: count, dtype: int64"
      ]
     },
     "execution_count": 142,
     "metadata": {},
     "output_type": "execute_result"
    }
   ],
   "source": [
    "#insurance validity\n",
    "df_outliers_removed['Insurance Validity'].value_counts()"
   ]
  },
  {
   "cell_type": "code",
   "execution_count": 144,
   "id": "7d798e3b-a93f-429d-b87f-17a72d8367f1",
   "metadata": {},
   "outputs": [
    {
     "name": "stdout",
     "output_type": "stream",
     "text": [
      "4\n",
      "0\n"
     ]
    }
   ],
   "source": [
    "# we have 4 null rows in this column so we drop them\n",
    "print(df_outliers_removed['Insurance Validity'].isna().sum())\n",
    "df_outliers_removed = df_outliers_removed.dropna(subset = ['Insurance Validity'])\n",
    "print(df_outliers_removed['Insurance Validity'].isna().sum())"
   ]
  },
  {
   "cell_type": "code",
   "execution_count": 146,
   "id": "efb913e5-3375-42a9-8d83-97d1c85eb322",
   "metadata": {},
   "outputs": [
    {
     "name": "stderr",
     "output_type": "stream",
     "text": [
      "C:\\Users\\Gowtham R\\AppData\\Local\\Temp\\ipykernel_7816\\1069776504.py:2: FutureWarning: A value is trying to be set on a copy of a DataFrame or Series through chained assignment using an inplace method.\n",
      "The behavior will change in pandas 3.0. This inplace method will never work because the intermediate object on which we are setting values always behaves as a copy.\n",
      "\n",
      "For example, when doing 'df[col].method(value, inplace=True)', try using 'df.method({col: value}, inplace=True)' or df[col] = df[col].method(value) instead, to perform the operation inplace on the original object.\n",
      "\n",
      "\n",
      "  df_outliers_removed['Insurance Validity'].replace({'1': 'Not Available', '2': 'Not Available','Third Party':'Third Party insurance'}, inplace=True)\n"
     ]
    },
    {
     "data": {
      "image/png": "[encoded data removed]",
      "text/plain": [
       "<Figure size 1200x800 with 1 Axes>"
      ]
     },
     "metadata": {},
     "output_type": "display_data"
    }
   ],
   "source": [
    "# convert rows with values  '1' and '2'  into 'Not Available'\n",
    "df_outliers_removed['Insurance Validity'].replace({'1': 'Not Available', '2': 'Not Available','Third Party':'Third Party insurance'}, inplace=True)\n",
    "\n",
    "#plotting bar graph wrt price\n",
    "plt.figure(figsize=(12, 8))\n",
    "average_prices = df_outliers_removed.groupby('Insurance Validity')['price'].mean().sort_values()\n",
    "average_prices.plot(kind='bar')\n",
    "plt.xticks(rotation=90)\n",
    "plt.title('Average car price by Insurance Validity')\n",
    "plt.xlabel('Insurance Validity')\n",
    "plt.ylabel('Average Price')\n",
    "plt.show()"
   ]
  },
  {
   "cell_type": "code",
   "execution_count": 148,
   "id": "0c075eae-89c0-480d-9f12-dbf46b44374d",
   "metadata": {},
   "outputs": [
    {
     "name": "stdout",
     "output_type": "stream",
     "text": [
      "RTO\n",
      "WB02    415\n",
      "RJ14    322\n",
      "TS07    260\n",
      "TS08    229\n",
      "KA03    211\n",
      "       ... \n",
      "Wb12      1\n",
      "Wb52      1\n",
      "wb02      1\n",
      "Wb34      1\n",
      "UP82      1\n",
      "Name: count, Length: 431, dtype: int64\n",
      "764\n"
     ]
    }
   ],
   "source": [
    "#rto\n",
    "print(df_outliers_removed['RTO'].value_counts())\n",
    "print(df_outliers_removed['RTO'].isna().sum())"
   ]
  },
  {
   "cell_type": "code",
   "execution_count": null,
   "id": "83b34b60-18df-413f-b8a0-3eab9d885f1c",
   "metadata": {},
   "outputs": [],
   "source": [
    "# there are many null values in this column, so we cannot drop them or we will loose data. we assign 'unknown' to such columns \n",
    "# and we group the RTO location by state"
   ]
  },
  {
   "cell_type": "code",
   "execution_count": 150,
   "id": "3e293383-0bf3-4c91-adba-c2259a07ba22",
   "metadata": {},
   "outputs": [
    {
     "name": "stdout",
     "output_type": "stream",
     "text": [
      "0\n"
     ]
    }
   ],
   "source": [
    "# Mapping dictionary for RTO regions\n",
    "rto_region_mapping = {\n",
    "    'KA': 'Karnataka',\n",
    "    'HR': 'Haryana',\n",
    "    'WB': 'West Bengal',\n",
    "    'TN': 'Tamil Nadu',\n",
    "    'UP': 'Uttar Pradesh',\n",
    "    'DL': 'Delhi',\n",
    "    'MH': 'Maharashtra',\n",
    "    'RJ': 'Rajasthan',\n",
    "    'AP': 'Andhra Pradesh',\n",
    "    'GJ': 'Gujarat',\n",
    "    'OR': 'Odisha',\n",
    "    'PY': 'Puducherry',\n",
    "    'Unknown': 'Unknown'\n",
    "}\n",
    "\n",
    "# Function to map RTO codes to states\n",
    "def rto_to_region(rto_value):\n",
    "    if pd.isna(rto_value):\n",
    "        return 'Unknown'\n",
    "    rto_value_str = str(rto_value)  # Ensure value is string\n",
    "    for prefix in rto_region_mapping:\n",
    "        if rto_value_str.startswith(prefix):\n",
    "            return rto_region_mapping[prefix]\n",
    "    return 'Unknown'\n",
    "\n",
    "# Handle missing RTO values by setting them to 'Unknown'\n",
    "df_outliers_removed['RTO'] = df_outliers_removed['RTO'].fillna('Unknown')\n",
    "\n",
    "# Apply the RTO mapping function and create a new column for regions\n",
    "df_outliers_removed['RTO_region'] = df_outliers_removed['RTO'].apply(rto_to_region)\n",
    "\n",
    "# Drop the original 'RTO' column\n",
    "df_outliers_removed.drop('RTO', axis=1, inplace=True)\n",
    "\n",
    "# Display the modified DataFrame\n",
    "df_outliers_removed.head(1)\n",
    "print(df_outliers_removed['RTO_region'].isna().sum())"
   ]
  },
  {
   "cell_type": "code",
   "execution_count": 152,
   "id": "bf006c2c-9108-45b8-8310-9ed118860750",
   "metadata": {},
   "outputs": [
    {
     "data": {
      "image/png": "[encoded data removed]",
      "text/plain": [
       "<Figure size 1200x800 with 1 Axes>"
      ]
     },
     "metadata": {},
     "output_type": "display_data"
    }
   ],
   "source": [
    "# plotting\n",
    "plt.figure(figsize=(12, 8))\n",
    "average_prices = df_outliers_removed.groupby('RTO_region')['price'].mean().sort_values()\n",
    "average_prices.plot(kind='bar')\n",
    "plt.xticks(rotation=90)\n",
    "plt.title('Average Price by RTO region')\n",
    "plt.xlabel('RTO region')\n",
    "plt.ylabel('Average Price')\n",
    "plt.show()"
   ]
  },
  {
   "cell_type": "code",
   "execution_count": null,
   "id": "dfe97d8f-1ec8-40b5-80ce-40f16e30c383",
   "metadata": {},
   "outputs": [],
   "source": [
    "# we keep this column because of the mean price difference in each state"
   ]
  },
  {
   "cell_type": "code",
   "execution_count": 154,
   "id": "0489c8e6-caba-4d8a-bc44-8b294dcec3c6",
   "metadata": {},
   "outputs": [
    {
     "name": "stdout",
     "output_type": "stream",
     "text": [
      "Color\n",
      "Others                   1939\n",
      "White                    1395\n",
      "Silver                   1170\n",
      "Red                       751\n",
      "Blue                      537\n",
      "                         ... \n",
      "Other                       1\n",
      "O Purple                    1\n",
      "Arctic Silver               1\n",
      "Modern Steel Metallic       1\n",
      "Light Orange                1\n",
      "Name: count, Length: 143, dtype: int64\n",
      "0\n"
     ]
    }
   ],
   "source": [
    "#color\n",
    "print(df_outliers_removed['Color'].value_counts())\n",
    "print(df_outliers_removed['Color'].isna().sum())"
   ]
  },
  {
   "cell_type": "code",
   "execution_count": 156,
   "id": "38a257eb-c568-47e5-92d6-48e1b81fe3bf",
   "metadata": {},
   "outputs": [
    {
     "data": {
      "text/plain": [
       "Color\n",
       "Other     2034\n",
       "White     1442\n",
       "Silver    1207\n",
       "Red        771\n",
       "Gray       578\n",
       "Blue       549\n",
       "Black      339\n",
       "Brown      258\n",
       "Orange      99\n",
       "Gold        56\n",
       "Green       33\n",
       "Yellow      16\n",
       "Purple       8\n",
       "Bronze       5\n",
       "Name: count, dtype: int64"
      ]
     },
     "execution_count": 156,
     "metadata": {},
     "output_type": "execute_result"
    }
   ],
   "source": [
    "def determine_color(color):\n",
    "    color_lower = color.lower()\n",
    "    \n",
    "    if 'white' in color_lower:\n",
    "        return 'White'\n",
    "    elif 'red' in color_lower or 'wine' in color_lower or 'cherry' in color_lower:\n",
    "        return 'Red'\n",
    "    elif 'blue' in color_lower:\n",
    "        return 'Blue'\n",
    "    elif 'brown' in color_lower:\n",
    "        return 'Brown'\n",
    "    elif 'gold' in color_lower:\n",
    "        return 'Gold'\n",
    "    elif 'green' in color_lower:\n",
    "        return 'Green'\n",
    "    elif 'black' in color_lower:\n",
    "        return 'Black'     \n",
    "    elif 'orange' in color_lower:\n",
    "        return 'Orange'\n",
    "    elif 'yellow' in color_lower:\n",
    "        return 'Yellow'\n",
    "    elif 'bronze' in color_lower:\n",
    "        return 'Bronze'\n",
    "    elif 'purple' in color_lower:\n",
    "        return 'Purple'\n",
    "    elif 'grey' in color_lower or 'gray' in color_lower:\n",
    "        return 'Gray'\n",
    "    elif 'silver' in color_lower or 'metal' in color_lower or 'steel' in color_lower:\n",
    "        return 'Silver'\n",
    "    else:\n",
    "        return 'Other'  # Returns Other if no condition is met\n",
    "\n",
    "# Apply the function to the DataFrame column\n",
    "df_outliers_removed['Color'] = df_outliers_removed['Color'].apply(determine_color)\n",
    "df_outliers_removed['Color'].value_counts()"
   ]
  },
  {
   "cell_type": "code",
   "execution_count": 158,
   "id": "8170ff2e-ebdd-4a87-a929-b5ed4a095a08",
   "metadata": {},
   "outputs": [
    {
     "data": {
      "image/png": "[encoded data removed]",
      "text/plain": [
       "<Figure size 1200x800 with 1 Axes>"
      ]
     },
     "metadata": {},
     "output_type": "display_data"
    }
   ],
   "source": [
    "#plotting\n",
    "plt.figure(figsize=(12, 8))\n",
    "average_prices = df_outliers_removed.groupby('Color')['price'].mean().sort_values()\n",
    "average_prices.plot(kind='bar')\n",
    "plt.xticks(rotation=90)\n",
    "plt.title('Average Price by Color')\n",
    "plt.xlabel('Color')\n",
    "plt.ylabel('Average Price')\n",
    "plt.show()"
   ]
  },
  {
   "cell_type": "code",
   "execution_count": 160,
   "id": "b773c141-15fb-4adf-8c0c-058492263caf",
   "metadata": {},
   "outputs": [
    {
     "data": {
      "text/plain": [
       "Engine Type\n",
       "Kappa VTVT Petrol Engine      424\n",
       "In-Line Engine                381\n",
       "Petrol Engine                 295\n",
       "i-VTEC Petrol Engine          259\n",
       "i VTEC Engine                 199\n",
       "                             ... \n",
       "1.5L Revotorq Turbocharged      1\n",
       "All Aluminium light weigh       1\n",
       "SD4 Diesel  Engine              1\n",
       "2 cylinder, MPFI                1\n",
       "16V DOHC VTT DICOR              1\n",
       "Name: count, Length: 353, dtype: int64"
      ]
     },
     "execution_count": 160,
     "metadata": {},
     "output_type": "execute_result"
    }
   ],
   "source": [
    "df_outliers_removed['Engine Type'].value_counts()\t"
   ]
  },
  {
   "cell_type": "code",
   "execution_count": 162,
   "id": "bbd51ec4-3983-41f3-9895-a3615ab02cf8",
   "metadata": {},
   "outputs": [],
   "source": [
    "# too many classes exist in this column , and we can use engine displacement and fuel type data instead of this column. so we drop it\n",
    "df_outliers_removed.drop(['Engine Type'],axis=1,inplace=True)"
   ]
  },
  {
   "cell_type": "code",
   "execution_count": 164,
   "id": "50d9857c-9692-41f2-88d5-4e8166603bdc",
   "metadata": {},
   "outputs": [
    {
     "data": {
      "text/plain": [
       "Fuel Suppy System\n",
       "MPFI                                  1959\n",
       "MPFi                                   797\n",
       "CRDi                                   748\n",
       "CRDI                                   715\n",
       "Direct Injection                       595\n",
       "PGM-Fi                                 199\n",
       "PGM - Fi                               155\n",
       "GDi                                    111\n",
       "Common Rail                             68\n",
       "EFI                                     64\n",
       "EFI(Electronic Fuel Injection)          61\n",
       "TSI                                     56\n",
       "MPI                                     47\n",
       "MPi                                     38\n",
       "PGM-FI (Programmed Fuel Injection)      37\n",
       "SEFI                                    33\n",
       "MPFI                                    33\n",
       "EFI (Electronic Fuel Injection)         26\n",
       "Direct Injection                        25\n",
       "Electronic Injection System             15\n",
       "PGM-FI                                  13\n",
       "Multi-point injection                   11\n",
       "TDCi                                    11\n",
       "CDI                                     11\n",
       "MPFI+LPG                                 9\n",
       "Multi Point Fuel Injection               9\n",
       "DDIS                                     7\n",
       "Common rail direct injection             6\n",
       "Electronic Fuel Injection                5\n",
       "GDI                                      5\n",
       "Multipoint Injection                     5\n",
       "PGM-FI (Programmed Fuel Inje             4\n",
       "Indirect Injection                       4\n",
       "Electronic Fuel Injection(EFI)           4\n",
       "DPFi                                     4\n",
       "Common Rail Direct Injection (dCi)       4\n",
       "EGIS                                     4\n",
       "TGDi                                     3\n",
       "Gasoline Direct Injection                3\n",
       "Mpfi                                     2\n",
       "DEDST                                    2\n",
       "MPFI+CNG                                 2\n",
       "CNG                                      2\n",
       "Common Rail                              2\n",
       "Common Rail Diesel                       2\n",
       "Common Rail Direct Injection             1\n",
       "gasoline direct injection                1\n",
       "EFI (Electronic Fuel Injection           1\n",
       "Intelligent-Gas Port Injection           1\n",
       "TDi                                      1\n",
       "PGM-FI (Programmed Fuel Inject           1\n",
       "IDI                                      1\n",
       "DOHC                                     1\n",
       "common rail system                       1\n",
       "Dual VVT-i                               1\n",
       "Multi point Fuel Injection               1\n",
       "Ti-VCT                                   1\n",
       "Direct Injectio                          1\n",
       "Name: count, dtype: int64"
      ]
     },
     "execution_count": 164,
     "metadata": {},
     "output_type": "execute_result"
    }
   ],
   "source": [
    "df_outliers_removed['Fuel Suppy System'].value_counts()\t"
   ]
  },
  {
   "cell_type": "code",
   "execution_count": 166,
   "id": "083905c8-352b-4bf5-962b-0ee8c88d9e5b",
   "metadata": {},
   "outputs": [],
   "source": [
    "df_outliers_removed.drop(['Fuel Suppy System'],axis=1,inplace=True)"
   ]
  },
  {
   "cell_type": "code",
   "execution_count": 168,
   "id": "85472a03-d2b1-411c-a554-8f26d4423dec",
   "metadata": {},
   "outputs": [],
   "source": [
    "# too many classes exist in this column, so we drop it \n",
    "# we can use other columns like fuel type and transmission"
   ]
  },
  {
   "cell_type": "code",
   "execution_count": 170,
   "id": "e11f2e8e-8b03-4d78-a1e6-e19a4ef34f9c",
   "metadata": {},
   "outputs": [
    {
     "name": "stdout",
     "output_type": "stream",
     "text": [
      "Turbo Charger\n",
      "No       3978\n",
      "Yes      2440\n",
      "Twin       21\n",
      "NO         20\n",
      "YES        15\n",
      "no          8\n",
      "Turbo       1\n",
      "yes         1\n",
      "Name: count, dtype: int64\n",
      "911\n",
      "\n",
      " Super Charger\n",
      "No     5695\n",
      "Yes       6\n",
      "NO        2\n",
      "Name: count, dtype: int64\n",
      "1692\n"
     ]
    }
   ],
   "source": [
    "print(df_outliers_removed['Turbo Charger'].value_counts())\n",
    "print(df_outliers_removed['Turbo Charger'].isna().sum())\n",
    "print('\\n',df_outliers_removed['Super Charger'].value_counts())\n",
    "print(df_outliers_removed['Super Charger'].isna().sum())"
   ]
  },
  {
   "cell_type": "code",
   "execution_count": 172,
   "id": "d018d812-ff6d-4574-9a0d-cc1bf98e2471",
   "metadata": {},
   "outputs": [],
   "source": [
    "# in super charger more than 90% values are No and there are many null values so we drop it and use Turbo charger column instead\n",
    "df_outliers_removed.drop('Super Charger',axis=1,inplace=True)"
   ]
  },
  {
   "cell_type": "code",
   "execution_count": 174,
   "id": "bffcbc51-1bdf-4522-b805-1c7410257922",
   "metadata": {},
   "outputs": [
    {
     "name": "stdout",
     "output_type": "stream",
     "text": [
      "Turbo Charger\n",
      "False    4917\n",
      "True     2478\n",
      "Name: count, dtype: int64\n",
      "0\n"
     ]
    },
    {
     "name": "stderr",
     "output_type": "stream",
     "text": [
      "C:\\Users\\Gowtham R\\AppData\\Local\\Temp\\ipykernel_7816\\3357911175.py:15: FutureWarning: Downcasting object dtype arrays on .fillna, .ffill, .bfill is deprecated and will change in a future version. Call result.infer_objects(copy=False) instead. To opt-in to the future behavior, set `pd.set_option('future.no_silent_downcasting', True)`\n",
      "  df_outliers_removed['Turbo Charger'] = df_outliers_removed['Turbo Charger'].map(mapping).fillna(False)\n"
     ]
    }
   ],
   "source": [
    "# we convert values into boolean values \n",
    "# we are filling False if the value is missing(null)\n",
    "mapping = {\n",
    "    'No':False,\n",
    "    'NO':False,\n",
    "    'no':False,\n",
    "    None:False,\n",
    "\n",
    "    'Yes':True,\n",
    "    'YES':True,\n",
    "    'yes':True,\n",
    "    'Turbo':True,\n",
    "    'Twin':True,\n",
    "}\n",
    "df_outliers_removed['Turbo Charger'] = df_outliers_removed['Turbo Charger'].map(mapping).fillna(False)\n",
    "\n",
    "print(df_outliers_removed['Turbo Charger'].value_counts())\n",
    "print(df_outliers_removed['Turbo Charger'].isna().sum())"
   ]
  },
  {
   "cell_type": "code",
   "execution_count": 176,
   "id": "56242ac2-7884-4a52-a3d0-7906605e1d70",
   "metadata": {},
   "outputs": [
    {
     "data": {
      "image/png": "[encoded data removed]",
      "text/plain": [
       "<Figure size 1200x800 with 1 Axes>"
      ]
     },
     "metadata": {},
     "output_type": "display_data"
    }
   ],
   "source": [
    "#plotting\n",
    "plt.figure(figsize=(12, 8))\n",
    "average_prices = df_outliers_removed.groupby('Turbo Charger')['price'].mean().sort_values()\n",
    "average_prices.plot(kind='bar')\n",
    "plt.xticks(rotation=90)\n",
    "plt.title('Average Price by Turbo Charger Type')\n",
    "plt.xlabel('Turbo Charger')\n",
    "plt.ylabel('Average Price')\n",
    "plt.show()"
   ]
  },
  {
   "cell_type": "code",
   "execution_count": 178,
   "id": "8bcb76c5-5f74-49d5-8766-2fee892390a7",
   "metadata": {},
   "outputs": [
    {
     "name": "stdout",
     "output_type": "stream",
     "text": [
      "Gear Box\n",
      "5 Speed                             4154\n",
      "6 Speed                              941\n",
      "5-Speed                              509\n",
      "6-Speed                              217\n",
      "7 Speed                              202\n",
      "                                    ... \n",
      "6Speed                                 1\n",
      "8-Speed Automatic Transmission         1\n",
      "6-speed iMT                            1\n",
      "Six Speed Automatic Transmission       1\n",
      "10 speed                               1\n",
      "Name: count, Length: 72, dtype: int64\n",
      "50\n"
     ]
    }
   ],
   "source": [
    "print(df_outliers_removed['Gear Box'].value_counts())\n",
    "print(df_outliers_removed['Gear Box'].isna().sum())"
   ]
  },
  {
   "cell_type": "code",
   "execution_count": 180,
   "id": "d88d8733-1a6b-4c08-b3f9-b6d0ee4c19fb",
   "metadata": {},
   "outputs": [],
   "source": [
    "# this parameter is not very necessary as we already have Transmission and fuel type columns\n",
    "# also this column has 92 classes which is too many \n",
    "df_outliers_removed.drop('Gear Box',axis=1,inplace=True)"
   ]
  },
  {
   "cell_type": "code",
   "execution_count": 182,
   "id": "e052b9cd-b153-4e6b-abae-3e8669b7602d",
   "metadata": {},
   "outputs": [
    {
     "name": "stdout",
     "output_type": "stream",
     "text": [
      "Drive Type\n",
      "FWD                                  5183\n",
      "RWD                                   301\n",
      "2WD                                   117\n",
      "AWD                                   109\n",
      "4X2                                    67\n",
      "2 WD                                   45\n",
      "4X4                                    41\n",
      "4WD                                    41\n",
      "Front Wheel Drive                      38\n",
      "FWD                                    34\n",
      "4x2                                    15\n",
      "Two Wheel Drive                        14\n",
      "4x4                                    11\n",
      "Rear Wheel Drive with ESP               6\n",
      "All Wheel Drive                         2\n",
      "Permanent all-wheel drive quattro       2\n",
      "2WD                                     1\n",
      "4 WD                                    1\n",
      "Name: count, dtype: int64\n",
      "1367\n"
     ]
    }
   ],
   "source": [
    "print(df_outliers_removed['Drive Type'].value_counts())\n",
    "print(df_outliers_removed['Drive Type'].isna().sum())"
   ]
  },
  {
   "cell_type": "code",
   "execution_count": 184,
   "id": "2265084f-f34d-47b5-af77-e21a198164e0",
   "metadata": {},
   "outputs": [
    {
     "data": {
      "text/plain": [
       "Drive_Type_Classified\n",
       "2WD        5387\n",
       "Unknown    1499\n",
       "AWD/4WD     509\n",
       "Name: count, dtype: int64"
      ]
     },
     "execution_count": 184,
     "metadata": {},
     "output_type": "execute_result"
    }
   ],
   "source": [
    "# Define a function to classify Drive Type into three categories\n",
    "def classify_drive_type(drive):\n",
    "    if isinstance(drive, str):  # Check if 'drive' is a string\n",
    "        drive = drive.lower()  # Convert to lowercase for consistency\n",
    "        if 'fwd' in drive or 'front' in drive or 'two wheel' in drive or '2wd' in drive:\n",
    "            return '2WD'\n",
    "        elif 'awd' in drive or '4wd' in drive or '4x4' in drive or 'rwd' in drive or 'rear' in drive:\n",
    "            return 'AWD/4WD'\n",
    "    # Handle missing or unclassified values by returning 'Unknown'\n",
    "    return 'Unknown'\n",
    "\n",
    "# Apply the classification function to the 'Drive Type' column\n",
    "df_outliers_removed['Drive_Type_Classified'] = df_outliers_removed['Drive Type'].apply(classify_drive_type)\n",
    "\n",
    "# Verify the result\n",
    "df_outliers_removed['Drive_Type_Classified'].value_counts()"
   ]
  },
  {
   "cell_type": "code",
   "execution_count": 186,
   "id": "356d4fb7-2b7a-45dd-828c-6a4f8a4d62bd",
   "metadata": {},
   "outputs": [
    {
     "data": {
      "image/png": "[encoded data removed]",
      "text/plain": [
       "<Figure size 1200x800 with 1 Axes>"
      ]
     },
     "metadata": {},
     "output_type": "display_data"
    }
   ],
   "source": [
    "plt.figure(figsize=(12, 8))\n",
    "average_prices = df_outliers_removed.groupby('Drive_Type_Classified')['price'].mean().sort_values()\n",
    "average_prices.plot(kind='bar')\n",
    "plt.xticks(rotation=90)\n",
    "plt.title('Average Price by Turbo Charger')\n",
    "plt.xlabel('Turbo Charger')\n",
    "plt.ylabel('Average Price')\n",
    "plt.show()"
   ]
  },
  {
   "cell_type": "code",
   "execution_count": 188,
   "id": "d5e5e638-b4cb-4d91-99fc-e81cd19789a9",
   "metadata": {},
   "outputs": [],
   "source": [
    "# drop the old column\n",
    "df_outliers_removed.drop(['Drive Type'],axis=1,inplace=True)"
   ]
  },
  {
   "cell_type": "code",
   "execution_count": 190,
   "id": "08819e5a-8aac-4393-bb54-b00d05c6083d",
   "metadata": {},
   "outputs": [
    {
     "name": "stdout",
     "output_type": "stream",
     "text": [
      "Steering Type\n",
      "Power         5631\n",
      "Electric      1320\n",
      "Electronic     102\n",
      "Manual          58\n",
      "Electrical      39\n",
      "power           29\n",
      "EPAS             9\n",
      "Name: count, dtype: int64\n",
      "207\n"
     ]
    }
   ],
   "source": [
    "print(df_outliers_removed['Steering Type'].value_counts())\n",
    "print(df_outliers_removed['Steering Type'].isna().sum())"
   ]
  },
  {
   "cell_type": "code",
   "execution_count": 192,
   "id": "20c59de4-973f-40b8-919b-56ed0dc0b301",
   "metadata": {},
   "outputs": [
    {
     "data": {
      "text/plain": [
       "Steering_Type_Classified\n",
       "Power       5867\n",
       "Electric    1470\n",
       "Manual        58\n",
       "Name: count, dtype: int64"
      ]
     },
     "execution_count": 192,
     "metadata": {},
     "output_type": "execute_result"
    }
   ],
   "source": [
    "# Define a function to classify Steering Type into three categories\n",
    "def classify_steering_type(steering):\n",
    "    if isinstance(steering, str):  # Ensure it's a string\n",
    "        steering = steering.lower()  # Convert to lowercase\n",
    "        if 'power' in steering:\n",
    "            return 'Power'\n",
    "        elif 'electric' in steering or 'epas' in steering or 'electronic' in steering:\n",
    "            return 'Electric'\n",
    "        elif 'manual' in steering:\n",
    "            return 'Manual'\n",
    "    # Handle missing or unclassified values by returning 'Power'\n",
    "    return 'Power'\n",
    "\n",
    "# Apply the classification function to the 'Steering Type' column\n",
    "df_outliers_removed['Steering_Type_Classified'] = df_outliers_removed['Steering Type'].apply(classify_steering_type)\n",
    "\n",
    "# Verify the result\n",
    "df_outliers_removed['Steering_Type_Classified'].value_counts()"
   ]
  },
  {
   "cell_type": "code",
   "execution_count": 194,
   "id": "b2746727-c749-4629-b826-2fe84e439add",
   "metadata": {},
   "outputs": [
    {
     "data": {
      "image/png": "[encoded data removed]",
      "text/plain": [
       "<Figure size 1200x800 with 1 Axes>"
      ]
     },
     "metadata": {},
     "output_type": "display_data"
    }
   ],
   "source": [
    "plt.figure(figsize=(12, 8))\n",
    "average_prices = df_outliers_removed.groupby('Steering_Type_Classified')['price'].mean().sort_values()\n",
    "average_prices.plot(kind='bar')\n",
    "plt.xticks(rotation=90)\n",
    "plt.title('Average Price by Steering_Type')\n",
    "plt.xlabel('Steering_Type')\n",
    "plt.ylabel('Average Price')\n",
    "plt.show()"
   ]
  },
  {
   "cell_type": "code",
   "execution_count": 196,
   "id": "7bd118e3-ca76-4442-bf19-ded6e21e1d56",
   "metadata": {},
   "outputs": [],
   "source": [
    "# here power and electric show almost similar behaviour with respect to price and rowws with manual are significantly less. \n",
    "# so we can drop this column\n",
    "df_outliers_removed.drop(['Steering_Type_Classified','Steering Type'],axis=1,inplace=True)"
   ]
  },
  {
   "cell_type": "code",
   "execution_count": 198,
   "id": "0dd6623c-1e5a-4a48-b717-8f1a11b593be",
   "metadata": {},
   "outputs": [
    {
     "name": "stdout",
     "output_type": "stream",
     "text": [
      "Front Brake Type\n",
      "Disc                                        4834\n",
      "Ventilated Disc                             2176\n",
      "Disc                                          70\n",
      "Solid Disc                                    63\n",
      "Ventilated Discs                              50\n",
      "Disc & Caliper Type                           40\n",
      "Disk                                          23\n",
      "Ventilated Disc                               23\n",
      "Ventilated Disk                               11\n",
      "disc                                           7\n",
      "Ventilated discs                               6\n",
      "Drum                                           6\n",
      " Disc                                          6\n",
      "Multilateral Disc                              6\n",
      "Ventlated Disc                                 6\n",
      "Vantilated Disc                                5\n",
      "Ventilated DIsc                                5\n",
      "Ventillated Disc                               3\n",
      " Ventilated Disc                               2\n",
      "Vacuum assisted hydraulic dual circuit w       2\n",
      "Ventilated disc                                1\n",
      "ABS                                            1\n",
      "Disc brakes                                    1\n",
      "Name: count, dtype: int64\n",
      "\n",
      " Rear Brake Type\n",
      "Drum                                        6057\n",
      "Disc                                         880\n",
      "Solid Disc                                   110\n",
      "Discs                                         83\n",
      "Ventilated Disc                               61\n",
      "Disc & Caliper Type                           40\n",
      "Self-Adjusting Drum                           19\n",
      "Leading-Trailing Drum                         17\n",
      "Ventilated Discs                              17\n",
      "Leading & Trailing Drum                       14\n",
      "Disc & Drum                                    7\n",
      "Drum                                           6\n",
      "Ventilated discs                               6\n",
      "disc                                           5\n",
      "Solid Disc                                     5\n",
      "Drums                                          5\n",
      "Drum`                                          3\n",
      "self adjusting drums                           3\n",
      "Self Adjusting Drums                           2\n",
      "Ventialte Disc                                 2\n",
      "drum                                           2\n",
      "Vacuum assisted hydraulic dual circuit w       2\n",
      "Self Adjusting Drum                            1\n",
      "Name: count, dtype: int64\n"
     ]
    }
   ],
   "source": [
    "print(df_outliers_removed['Front Brake Type'].value_counts())\n",
    "\n",
    "print('\\n',df_outliers_removed['Rear Brake Type'].value_counts())"
   ]
  },
  {
   "cell_type": "code",
   "execution_count": 200,
   "id": "ce878593-7e40-4075-8d90-be27b5f4c539",
   "metadata": {},
   "outputs": [],
   "source": [
    "# The Steering Type feature has too many categories and doesn’t really affect car prices, so we should remove it.\n",
    "# There are very few instances of Drum (5) and ABS (2) compared to Disc, which constitutes over 90% of the data, making them unlikely to benefit our model.\n",
    "\n",
    "df_outliers_removed.drop(['Front Brake Type','Rear Brake Type'],axis=1,inplace=True)"
   ]
  },
  {
   "cell_type": "code",
   "execution_count": 202,
   "id": "40f5bfb1-727e-4d7c-93af-4f2eed2fc5f3",
   "metadata": {},
   "outputs": [
    {
     "data": {
      "text/plain": [
       "Tyre Type\n",
       "Tubeless,Radial           3811\n",
       "Tubeless, Radial          1318\n",
       "Tubeless                  1117\n",
       "Tubeless Tyres             391\n",
       "Radial, Tubeless           216\n",
       "Radial                     117\n",
       "Radial, Tubless             82\n",
       "Tubeless Tyres, Radial      54\n",
       "Tubeless Radial Tyres       50\n",
       "Tubeless,Radial             50\n",
       "Radial,Tubeless             31\n",
       "Tubeless,Radials            27\n",
       "Tubless, Radial             24\n",
       "tubeless tyre               14\n",
       "Runflat                     12\n",
       "Run-Flat                    12\n",
       "Tubeless, Runflat            7\n",
       "Tubeless                     7\n",
       "Radial Tubeless              4\n",
       "Tubeless Radials Tyre        3\n",
       "Tubeless,Runflat             3\n",
       "Tubeless Tyre                2\n",
       "Runflat Tyres                2\n",
       "Radial Tyres                 1\n",
       "Tubeless, Radials            1\n",
       "Name: count, dtype: int64"
      ]
     },
     "execution_count": 202,
     "metadata": {},
     "output_type": "execute_result"
    }
   ],
   "source": [
    "df_outliers_removed['Tyre Type'].value_counts()"
   ]
  },
  {
   "cell_type": "code",
   "execution_count": 204,
   "id": "486a8b7c-a029-46b2-8ea4-7eb381ded25e",
   "metadata": {},
   "outputs": [],
   "source": [
    "# most of the rows seem to have the same tyres Tubeless or Radical. Since the whole column have the same data we can drop it \n",
    "df_outliers_removed.drop(['Tyre Type'],axis=1,inplace=True)"
   ]
  },
  {
   "cell_type": "code",
   "execution_count": 206,
   "id": "0b12a967-9b23-4432-9fb9-b3db8cecea5f",
   "metadata": {},
   "outputs": [
    {
     "data": {
      "text/plain": [
       "Location\n",
       "Hyderabad    1338\n",
       "Bangalore    1307\n",
       "Chennai      1276\n",
       "Delhi        1241\n",
       "Kolkata      1240\n",
       "Jaipur        993\n",
       "Name: count, dtype: int64"
      ]
     },
     "execution_count": 206,
     "metadata": {},
     "output_type": "execute_result"
    }
   ],
   "source": [
    "df_outliers_removed['Location'].value_counts()\t"
   ]
  },
  {
   "cell_type": "code",
   "execution_count": 208,
   "id": "f5d45847-4903-4ef9-9765-04780016693e",
   "metadata": {},
   "outputs": [
    {
     "data": {
      "image/png": "[encoded data removed]",
      "text/plain": [
       "<Figure size 1200x800 with 1 Axes>"
      ]
     },
     "metadata": {},
     "output_type": "display_data"
    }
   ],
   "source": [
    "# this is the column which we have added based on the excel files \n",
    "# lets see the relationship with mean price\n",
    "plt.figure(figsize=(12, 8))\n",
    "average_prices = df_outliers_removed.groupby('Location')['price'].mean().sort_values()\n",
    "average_prices.plot(kind='bar')\n",
    "plt.xticks(rotation=90)\n",
    "plt.title('Average Price by Location')\n",
    "plt.xlabel('Location')\n",
    "plt.ylabel('Average Price')\n",
    "plt.show()\n",
    "# there is change with respect to location , so we use it "
   ]
  },
  {
   "cell_type": "code",
   "execution_count": 210,
   "id": "bc63f3c8-aa95-48ad-8a85-c9fea3b0cacd",
   "metadata": {},
   "outputs": [
    {
     "data": {
      "text/plain": [
       "ft                       0\n",
       "bt                       0\n",
       "km                       0\n",
       "transmission             0\n",
       "ownerNo                  0\n",
       "company                  0\n",
       "model                    0\n",
       "modelYear                0\n",
       "price                    0\n",
       "Insurance Validity       0\n",
       "Mileage                  0\n",
       "Color                    0\n",
       "Displacement             0\n",
       "Turbo Charger            0\n",
       "Location                 0\n",
       "RTO_region               0\n",
       "Drive_Type_Classified    0\n",
       "dtype: int64"
      ]
     },
     "execution_count": 210,
     "metadata": {},
     "output_type": "execute_result"
    }
   ],
   "source": [
    "df_outliers_removed.isna().sum()"
   ]
  },
  {
   "cell_type": "code",
   "execution_count": 214,
   "id": "93cd3003-c16f-4230-a0fb-d84142ae3e9c",
   "metadata": {},
   "outputs": [],
   "source": [
    "df_outliers_removed.to_excel('Preprocessed_data.xlsx',index=False)"
   ]
  },
  {
   "cell_type": "code",
   "execution_count": 216,
   "id": "94cf89e6-25e2-4e18-8d81-1bb23088f639",
   "metadata": {},
   "outputs": [
    {
     "data": {
      "text/html": [
       "<div>\n",
       "<style scoped>\n",
       "    .dataframe tbody tr th:only-of-type {\n",
       "        vertical-align: middle;\n",
       "    }\n",
       "\n",
       "    .dataframe tbody tr th {\n",
       "        vertical-align: top;\n",
       "    }\n",
       "\n",
       "    .dataframe thead th {\n",
       "        text-align: right;\n",
       "    }\n",
       "</style>\n",
       "<table border=\"1\" class=\"dataframe\">\n",
       "  <thead>\n",
       "    <tr style=\"text-align: right;\">\n",
       "      <th></th>\n",
       "      <th>ft</th>\n",
       "      <th>bt</th>\n",
       "      <th>km</th>\n",
       "      <th>transmission</th>\n",
       "      <th>ownerNo</th>\n",
       "      <th>company</th>\n",
       "      <th>model</th>\n",
       "      <th>modelYear</th>\n",
       "      <th>price</th>\n",
       "      <th>Insurance Validity</th>\n",
       "      <th>Mileage</th>\n",
       "      <th>Color</th>\n",
       "      <th>Displacement</th>\n",
       "      <th>Turbo Charger</th>\n",
       "      <th>Location</th>\n",
       "      <th>RTO_region</th>\n",
       "      <th>Drive_Type_Classified</th>\n",
       "    </tr>\n",
       "  </thead>\n",
       "  <tbody>\n",
       "    <tr>\n",
       "      <th>0</th>\n",
       "      <td>Petrol</td>\n",
       "      <td>Hatchback</td>\n",
       "      <td>20000.0</td>\n",
       "      <td>Automatic</td>\n",
       "      <td>1</td>\n",
       "      <td>Volkswagen</td>\n",
       "      <td>Volkswagen Polo</td>\n",
       "      <td>2022</td>\n",
       "      <td>1044000.0</td>\n",
       "      <td>Third Party insurance</td>\n",
       "      <td>16.47</td>\n",
       "      <td>Other</td>\n",
       "      <td>999.0</td>\n",
       "      <td>True</td>\n",
       "      <td>Hyderabad</td>\n",
       "      <td>Unknown</td>\n",
       "      <td>2WD</td>\n",
       "    </tr>\n",
       "  </tbody>\n",
       "</table>\n",
       "</div>"
      ],
      "text/plain": [
       "       ft         bt       km transmission  ownerNo     company  \\\n",
       "0  Petrol  Hatchback  20000.0    Automatic        1  Volkswagen   \n",
       "\n",
       "             model  modelYear      price     Insurance Validity  Mileage  \\\n",
       "0  Volkswagen Polo       2022  1044000.0  Third Party insurance    16.47   \n",
       "\n",
       "   Color  Displacement  Turbo Charger   Location RTO_region  \\\n",
       "0  Other         999.0           True  Hyderabad    Unknown   \n",
       "\n",
       "  Drive_Type_Classified  \n",
       "0                   2WD  "
      ]
     },
     "execution_count": 216,
     "metadata": {},
     "output_type": "execute_result"
    }
   ],
   "source": [
    "df_outliers_removed.head(1)"
   ]
  },
  {
   "cell_type": "markdown",
   "id": "291d2d94-7451-4168-8856-bcf6b7bf2314",
   "metadata": {},
   "source": [
    "#ML MODELS\n"
   ]
  },
  {
   "cell_type": "code",
   "execution_count": 5,
   "id": "e1bad618-8169-4172-b28b-0e971fb1011c",
   "metadata": {},
   "outputs": [
    {
     "name": "stdout",
     "output_type": "stream",
     "text": [
      "Training data shape: (5916, 204)\n",
      "Testing data shape: (1479, 204)\n",
      "                            Train MSE      Train MAE  Train R2  Train MAPE  \\\n",
      "Random Forest            3.779908e+09   33033.199650  0.990681    5.049984   \n",
      "XGBoost Regressor        5.147022e+09   48864.439211  0.987311    8.409458   \n",
      "Decision Tree Regressor  1.646138e+08     650.101420  0.999594    0.059475   \n",
      "Linear Regression        5.643059e+10  132322.425405  0.860877   24.712700   \n",
      "\n",
      "                             Test MSE       Test MAE   Test R2  Test MAPE  \n",
      "Random Forest            2.642702e+10   86503.826990  0.940213  13.033422  \n",
      "XGBoost Regressor        2.391558e+10   82597.844905  0.945895  12.754370  \n",
      "Decision Tree Regressor  4.216993e+10  113868.395538  0.904597  17.158273  \n",
      "Linear Regression        6.386995e+10  141635.483921  0.855504  24.790534  \n"
     ]
    }
   ],
   "source": [
    "import pandas as pd\n",
    "from sklearn.model_selection import train_test_split, cross_val_score\n",
    "from sklearn.linear_model import LinearRegression\n",
    "from sklearn.tree import DecisionTreeRegressor\n",
    "from sklearn.ensemble import RandomForestRegressor\n",
    "from xgboost import XGBRegressor\n",
    "from sklearn.metrics import mean_squared_error, mean_absolute_error, r2_score, mean_absolute_percentage_error\n",
    "import numpy as np\n",
    "\n",
    "# Load the dataset\n",
    "df_cars = pd.read_excel('Preprocessed_data.xlsx')\n",
    "\n",
    "# Identify categorical and numerical columns\n",
    "cat_features = df_cars.select_dtypes(include=['object']).columns\n",
    "num_features = df_cars.select_dtypes(include=['number']).columns\n",
    "\n",
    "# Separate features (X) and target (y)\n",
    "X = df_cars.drop('price', axis=1)\n",
    "y = df_cars['price']\n",
    "\n",
    "# Encode categorical features\n",
    "X_encoded = pd.get_dummies(X, columns=cat_features, drop_first=True)\n",
    "\n",
    "# Split into training and testing sets\n",
    "X_train, X_test, y_train, y_test = train_test_split(X_encoded, y, test_size=0.2, random_state=42, shuffle=True)\n",
    "\n",
    "print(f\"Training data shape: {X_train.shape}\")\n",
    "print(f\"Testing data shape: {X_test.shape}\")\n",
    "\n",
    "# Define models\n",
    "regressors = {\n",
    "    'Random Forest': RandomForestRegressor(),\n",
    "    'XGBoost Regressor': XGBRegressor(),\n",
    "    'Decision Tree Regressor': DecisionTreeRegressor(),\n",
    "    'Linear Regression': LinearRegression()\n",
    "}\n",
    "\n",
    "# Store model performance results\n",
    "performance_results = {}\n",
    "\n",
    "# Loop through each model\n",
    "for model_name, model in regressors.items():\n",
    "    # Train the model\n",
    "    model.fit(X_train, y_train)\n",
    "    \n",
    "    # Predictions\n",
    "    train_preds = model.predict(X_train)\n",
    "    test_preds = model.predict(X_test)\n",
    "    \n",
    "    # Compute performance metrics for training and testing sets\n",
    "    metrics = {\n",
    "        'Train MSE': mean_squared_error(y_train, train_preds),\n",
    "        'Train MAE': mean_absolute_error(y_train, train_preds),\n",
    "        'Train R2': r2_score(y_train, train_preds),\n",
    "        'Train MAPE': mean_absolute_percentage_error(y_train, train_preds) * 100,\n",
    "        'Test MSE': mean_squared_error(y_test, test_preds),\n",
    "        'Test MAE': mean_absolute_error(y_test, test_preds),\n",
    "        'Test R2': r2_score(y_test, test_preds),\n",
    "        'Test MAPE': mean_absolute_percentage_error(y_test, test_preds) * 100\n",
    "    }\n",
    "    \n",
    "    performance_results[model_name] = metrics\n",
    "\n",
    "# Convert results to DataFrame\n",
    "results_df = pd.DataFrame(performance_results).T\n",
    "\n",
    "# Display results\n",
    "print(results_df)"
   ]
  },
  {
   "cell_type": "code",
   "execution_count": null,
   "id": "9dd40d90-874e-4a71-ac94-ca3dae41493b",
   "metadata": {},
   "outputs": [],
   "source": [
    "# Random Forest and XGBoost were the best working models on test data based on MSE, MAE and R2 scores\n",
    "#The XGBoost Regressor has a lower Test MSE, MAE, and MAPE, and a higher R² score compared to the Random Forest model, making it the best-performing model in this evaluation.\n",
    "# The Random Forest model is the second-best based on its relatively good performance metrics."
   ]
  },
  {
   "cell_type": "code",
   "execution_count": null,
   "id": "cb6828ca-9daf-4779-8175-efbb5ddb0022",
   "metadata": {},
   "outputs": [],
   "source": []
  },
  {
   "cell_type": "code",
   "execution_count": 7,
   "id": "c67d26d0-a9f5-4198-95e8-da3a2c812873",
   "metadata": {},
   "outputs": [
    {
     "name": "stdout",
     "output_type": "stream",
     "text": [
      "Fitting 5 folds for each of 100 candidates, totalling 500 fits\n"
     ]
    },
    {
     "name": "stderr",
     "output_type": "stream",
     "text": [
      "C:\\anaconda.jy\\Lib\\site-packages\\sklearn\\model_selection\\_validation.py:547: FitFailedWarning: \n",
      "260 fits failed out of a total of 500.\n",
      "The score on these train-test partitions for these parameters will be set to nan.\n",
      "If these failures are not expected, you can try to debug them by setting error_score='raise'.\n",
      "\n",
      "Below are more details about the failures:\n",
      "--------------------------------------------------------------------------------\n",
      "260 fits failed with the following error:\n",
      "Traceback (most recent call last):\n",
      "  File \"C:\\anaconda.jy\\Lib\\site-packages\\sklearn\\model_selection\\_validation.py\", line 895, in _fit_and_score\n",
      "    estimator.fit(X_train, y_train, **fit_params)\n",
      "  File \"C:\\anaconda.jy\\Lib\\site-packages\\sklearn\\base.py\", line 1467, in wrapper\n",
      "    estimator._validate_params()\n",
      "  File \"C:\\anaconda.jy\\Lib\\site-packages\\sklearn\\base.py\", line 666, in _validate_params\n",
      "    validate_parameter_constraints(\n",
      "  File \"C:\\anaconda.jy\\Lib\\site-packages\\sklearn\\utils\\_param_validation.py\", line 95, in validate_parameter_constraints\n",
      "    raise InvalidParameterError(\n",
      "sklearn.utils._param_validation.InvalidParameterError: The 'max_features' parameter of RandomForestRegressor must be an int in the range [1, inf), a float in the range (0.0, 1.0], a str among {'log2', 'sqrt'} or None. Got 'auto' instead.\n",
      "\n",
      "  warnings.warn(some_fits_failed_message, FitFailedWarning)\n",
      "C:\\anaconda.jy\\Lib\\site-packages\\sklearn\\model_selection\\_search.py:1051: UserWarning: One or more of the test scores are non-finite: [-0.2258281          nan -0.21272479 -0.35041494         nan         nan\n",
      "         nan         nan -0.22539361 -0.25691172 -0.35286619 -0.23242932\n",
      " -0.23162013         nan -0.24416155 -0.34975179 -0.36200408 -0.21747953\n",
      " -0.25712925 -0.21859572         nan         nan -0.20807732 -0.21910891\n",
      "         nan -0.22645895         nan         nan         nan -0.20328998\n",
      " -0.26393776         nan         nan -0.23095745 -0.35503178 -0.19378876\n",
      "         nan -0.35075341 -0.22510983         nan -0.21797106 -0.22467724\n",
      "         nan         nan         nan -0.35258784         nan -0.19815089\n",
      "         nan         nan         nan -0.25663844         nan         nan\n",
      " -0.23367786         nan -0.35015281         nan         nan         nan\n",
      "         nan         nan         nan -0.25852257         nan         nan\n",
      "         nan -0.19820371 -0.2048778  -0.25827232 -0.35293018         nan\n",
      "         nan         nan -0.34906569         nan         nan         nan\n",
      " -0.21860509         nan -0.23220667 -0.36234034 -0.23277669 -0.21883659\n",
      "         nan -0.18502264         nan         nan         nan         nan\n",
      " -0.2570415          nan -0.23342094 -0.23436123 -0.18547034         nan\n",
      " -0.25770076         nan         nan         nan]\n",
      "  warnings.warn(\n"
     ]
    },
    {
     "name": "stdout",
     "output_type": "stream",
     "text": [
      "Best Random Forest Parameters: {'n_estimators': 300, 'min_samples_split': 10, 'min_samples_leaf': 1, 'max_features': 'sqrt', 'max_depth': 30, 'bootstrap': False}\n",
      "Training Metrics:\n",
      "MSE: 14700690407.972422\n",
      "MAE: 66435.73173689774\n",
      "R^2: 0.9637571433592164\n",
      "MAPE: 11.08760533726412%\n",
      "\n",
      "Test Metrics:\n",
      "MSE: 40189871925.04136\n",
      "MAE: 104016.60857614293\n",
      "R^2: 0.9090763757328033\n",
      "MAPE: 17.54199232901601%\n"
     ]
    }
   ],
   "source": [
    "# Random Forest : Tuning using random search cv and testing again\n",
    "from sklearn.model_selection import RandomizedSearchCV\n",
    "from sklearn.ensemble import RandomForestRegressor\n",
    "rf_model = RandomForestRegressor(random_state=42)\n",
    "\n",
    "# Define the parameter grid for RandomizedSearchCV\n",
    "param_distributions = {\n",
    "    'n_estimators': [100, 200, 300, 400, 500],\n",
    "    'max_depth': [None, 10, 20, 30, 40],\n",
    "    'min_samples_split': [2, 5, 10],\n",
    "    'min_samples_leaf': [1, 2, 4],\n",
    "    'max_features': ['auto', 'sqrt'],\n",
    "    'bootstrap': [True, False]\n",
    "}\n",
    "\n",
    "# Hyperparameter tuning using RandomizedSearchCV\n",
    "rf_random_search = RandomizedSearchCV(\n",
    "    rf_model,\n",
    "    param_distributions=param_distributions,\n",
    "    n_iter=100,\n",
    "    scoring='neg_mean_absolute_percentage_error',\n",
    "    cv=5,\n",
    "    n_jobs=-1,\n",
    "    verbose=1,\n",
    "    random_state=42\n",
    ")\n",
    "\n",
    "# Fit the RandomizedSearchCV\n",
    "rf_random_search.fit(X_train, y_train)\n",
    "\n",
    "# Get the best parameters\n",
    "best_rf_params = rf_random_search.best_params_\n",
    "print(f\"Best Random Forest Parameters: {best_rf_params}\")\n",
    "\n",
    "# Initialize and train the Random Forest model with best parameters\n",
    "best_rf_model = RandomForestRegressor(\n",
    "    n_estimators=best_rf_params['n_estimators'],\n",
    "    max_depth=best_rf_params['max_depth'],\n",
    "    min_samples_split=best_rf_params['min_samples_split'],\n",
    "    min_samples_leaf=best_rf_params['min_samples_leaf'],\n",
    "    max_features=best_rf_params['max_features'],\n",
    "    bootstrap=best_rf_params['bootstrap'],\n",
    "    random_state=42\n",
    ")\n",
    "\n",
    "# Fit the model on the training data\n",
    "best_rf_model.fit(X_train, y_train)\n",
    "\n",
    "# Make predictions on training data\n",
    "y_train_pred = best_rf_model.predict(X_train)\n",
    "\n",
    "# Calculate metrics for the training set\n",
    "train_mse = mean_squared_error(y_train, y_train_pred)\n",
    "train_mae = mean_absolute_error(y_train, y_train_pred)\n",
    "train_r2 = r2_score(y_train, y_train_pred)\n",
    "train_mape = mean_absolute_percentage_error(y_train, y_train_pred) * 100\n",
    "\n",
    "# Print metrics for the training set\n",
    "print(f\"Training Metrics:\")\n",
    "print(f\"MSE: {train_mse}\")\n",
    "print(f\"MAE: {train_mae}\")\n",
    "print(f\"R^2: {train_r2}\")\n",
    "print(f\"MAPE: {train_mape}%\")\n",
    "\n",
    "# Make predictions on test data\n",
    "y_test_pred = best_rf_model.predict(X_test)\n",
    "\n",
    "# Calculate metrics for the test set\n",
    "test_mse = mean_squared_error(y_test, y_test_pred)\n",
    "test_mae = mean_absolute_error(y_test, y_test_pred)\n",
    "test_r2 = r2_score(y_test, y_test_pred)\n",
    "test_mape = mean_absolute_percentage_error(y_test, y_test_pred) * 100\n",
    "\n",
    "# Print metrics for the test set\n",
    "print(f\"\\nTest Metrics:\")\n",
    "print(f\"MSE: {test_mse}\")\n",
    "print(f\"MAE: {test_mae}\")\n",
    "print(f\"R^2: {test_r2}\")\n",
    "print(f\"MAPE: {test_mape}%\")"
   ]
  },
  {
   "cell_type": "code",
   "execution_count": 9,
   "id": "195a899b-718b-45aa-a73f-3e511e477354",
   "metadata": {},
   "outputs": [
    {
     "name": "stdout",
     "output_type": "stream",
     "text": [
      "Fitting 5 folds for each of 50 candidates, totalling 250 fits\n",
      "Best XGBoost Parameters: {'subsample': 1.0, 'n_estimators': 100, 'max_depth': 10, 'learning_rate': 0.1, 'colsample_bytree': 0.8}\n",
      "XGBoost Training Metrics:\n",
      "MSE: 1750987949.3361058\n",
      "MAE: 29122.373435783258\n",
      "R^2: 0.9956831411677705\n",
      "MAPE: 5.475507488645241%\n",
      "XGBoost Test Metrics:\n",
      "MSE: 23950352784.79546\n",
      "MAE: 79072.51004954784\n",
      "R^2: 0.9458158791415628\n",
      "MAPE: 11.83996926562325%\n"
     ]
    }
   ],
   "source": [
    "# XGBoost : Tuning using random search cv and testing again\n",
    "\n",
    "xgb_model = XGBRegressor(random_state=42)\n",
    "\n",
    "# Define hyperparameter grid for RandomizedSearchCV\n",
    "param_distributions_xgb = {\n",
    "    'n_estimators': [100, 200, 300],\n",
    "    'max_depth': [3, 5, 10, 15, 20],\n",
    "    'learning_rate': [0.01, 0.1, 0.2, 0.3],\n",
    "    'subsample': [0.6, 0.8, 1.0],\n",
    "    'colsample_bytree': [0.6, 0.8, 1.0]\n",
    "}\n",
    "\n",
    "# Perform RandomizedSearchCV\n",
    "xgb_random_search = RandomizedSearchCV(\n",
    "    estimator=xgb_model,\n",
    "    param_distributions=param_distributions_xgb,\n",
    "    n_iter=50,\n",
    "    scoring='neg_mean_absolute_percentage_error',\n",
    "    cv=5,\n",
    "    n_jobs=-1,\n",
    "    verbose=1,\n",
    "    random_state=42\n",
    ")\n",
    "\n",
    "# Fit the model\n",
    "xgb_random_search.fit(X_train, y_train)\n",
    "\n",
    "# Get the best parameters\n",
    "best_xgb_params = xgb_random_search.best_params_\n",
    "print(f\"Best XGBoost Parameters: {best_xgb_params}\")\n",
    "\n",
    "# Initialize and train the XGBoost model with the best parameters\n",
    "best_xgb_model = XGBRegressor(\n",
    "    n_estimators=best_xgb_params['n_estimators'],\n",
    "    max_depth=best_xgb_params['max_depth'],\n",
    "    learning_rate=best_xgb_params['learning_rate'],\n",
    "    subsample=best_xgb_params['subsample'],\n",
    "    colsample_bytree=best_xgb_params['colsample_bytree'],\n",
    "    random_state=42\n",
    ")\n",
    "\n",
    "best_xgb_model.fit(X_train, y_train)\n",
    "\n",
    "# Make predictions on the training set\n",
    "y_train_pred_xgb = best_xgb_model.predict(X_train)\n",
    "\n",
    "# Calculate metrics for the training set\n",
    "mse_train_xgb = mean_squared_error(y_train, y_train_pred_xgb)\n",
    "mae_train_xgb = mean_absolute_error(y_train, y_train_pred_xgb)\n",
    "r2_train_xgb = r2_score(y_train, y_train_pred_xgb)\n",
    "mape_train_xgb = mean_absolute_percentage_error(y_train, y_train_pred_xgb) * 100\n",
    "\n",
    "# Print metrics for the training set\n",
    "print(f\"XGBoost Training Metrics:\")\n",
    "print(f\"MSE: {mse_train_xgb}\")\n",
    "print(f\"MAE: {mae_train_xgb}\")\n",
    "print(f\"R^2: {r2_train_xgb}\")\n",
    "print(f\"MAPE: {mape_train_xgb}%\")\n",
    "\n",
    "# Make predictions on the test set\n",
    "y_test_pred_xgb = best_xgb_model.predict(X_test)\n",
    "\n",
    "# Calculate metrics for the test set\n",
    "mse_test_xgb = mean_squared_error(y_test, y_test_pred_xgb)\n",
    "mae_test_xgb = mean_absolute_error(y_test, y_test_pred_xgb)\n",
    "r2_test_xgb = r2_score(y_test, y_test_pred_xgb)\n",
    "mape_test_xgb = mean_absolute_percentage_error(y_test, y_test_pred_xgb) * 100\n",
    "\n",
    "# Print metrics for the test set\n",
    "print(f\"XGBoost Test Metrics:\")\n",
    "print(f\"MSE: {mse_test_xgb}\")\n",
    "print(f\"MAE: {mae_test_xgb}\")\n",
    "print(f\"R^2: {r2_test_xgb}\")\n",
    "print(f\"MAPE: {mape_test_xgb}%\")"
   ]
  },
  {
   "cell_type": "code",
   "execution_count": null,
   "id": "178cd9d3-0b23-467e-887c-53558c9e9992",
   "metadata": {},
   "outputs": [],
   "source": [
    "# We can see that even after tuning the hyper parameters for xgboost , we are getting almost the same R^2 scores ."
   ]
  },
  {
   "cell_type": "code",
   "execution_count": 11,
   "id": "95aeb0fd-8108-4a62-88df-77f3b0edd7a2",
   "metadata": {},
   "outputs": [
    {
     "name": "stderr",
     "output_type": "stream",
     "text": [
      "C:\\anaconda.jy\\Lib\\site-packages\\sklearn\\linear_model\\_coordinate_descent.py:678: ConvergenceWarning: Objective did not converge. You might want to increase the number of iterations, check the scale of the features or consider increasing regularisation. Duality gap: 1.672e+14, tolerance: 2.400e+11\n",
      "  model = cd_fast.enet_coordinate_descent(\n"
     ]
    },
    {
     "name": "stdout",
     "output_type": "stream",
     "text": [
      "                     MSE_train      MAE_train  R2_train  MAPE_train  \\\n",
      "Ridge Regression  5.735454e+10  134379.560801  0.858599   25.159768   \n",
      "Lasso Regression  5.644449e+10  132405.906892  0.860843   24.734344   \n",
      "\n",
      "                      MSE_test       MAE_test   R2_test  MAPE_test  \n",
      "Ridge Regression  6.413396e+10  144193.177624  0.854906  25.167451  \n",
      "Lasso Regression  6.387443e+10  141719.520932  0.855494  24.795948  \n"
     ]
    }
   ],
   "source": [
    "#Regularization techniques Lasso, Ridge\n",
    "from sklearn.linear_model import LinearRegression, Ridge, Lasso\n",
    "\n",
    "models = {\n",
    "    'Ridge Regression': Ridge(),\n",
    "    'Lasso Regression': Lasso(),\n",
    "}\n",
    "# Store the results\n",
    "results = {}\n",
    "\n",
    "# Evaluate each model\n",
    "for model_name, model in models.items():\n",
    "    # Train the model\n",
    "    model.fit(X_train, y_train)\n",
    "    \n",
    "    # Make predictions\n",
    "    y_train_pred = model.predict(X_train)\n",
    "    y_test_pred = model.predict(X_test)\n",
    "    \n",
    "    # Calculate metrics\n",
    "    mse_train = mean_squared_error(y_train, y_train_pred)\n",
    "    mae_train = mean_absolute_error(y_train, y_train_pred)\n",
    "    r2_train = r2_score(y_train, y_train_pred)\n",
    "    mape_train = mean_absolute_percentage_error(y_train, y_train_pred) * 100\n",
    "    \n",
    "    mse_test = mean_squared_error(y_test, y_test_pred)\n",
    "    mae_test = mean_absolute_error(y_test, y_test_pred)\n",
    "    r2_test = r2_score(y_test, y_test_pred)\n",
    "    mape_test = mean_absolute_percentage_error(y_test, y_test_pred) * 100\n",
    "    \n",
    "    # Store the results\n",
    "    results[model_name] = {\n",
    "        'MSE_train': mse_train,\n",
    "        'MAE_train': mae_train,\n",
    "        'R2_train': r2_train,\n",
    "        'MAPE_train': mape_train,\n",
    "        'MSE_test': mse_test,\n",
    "        'MAE_test':mae_test,\n",
    "        'R2_test': r2_test,\n",
    "        'MAPE_test': mape_test\n",
    "    }\n",
    "\n",
    "# Convert results to DataFrame\n",
    "results_df = pd.DataFrame(results).T\n",
    "print(results_df)"
   ]
  },
  {
   "cell_type": "code",
   "execution_count": 13,
   "id": "ed24bf54-c3f2-4ff3-b143-f4b430c4be2e",
   "metadata": {},
   "outputs": [
    {
     "data": {
      "text/plain": [
       "['xgboost_ml_model.pkl']"
      ]
     },
     "execution_count": 13,
     "metadata": {},
     "output_type": "execute_result"
    }
   ],
   "source": [
    "import joblib\n",
    "\n",
    "# Save the model\n",
    "joblib.dump(best_xgb_model, 'xgboost_ml_model.pkl')"
   ]
  },
  {
   "cell_type": "code",
   "execution_count": 15,
   "id": "bc3bbd3c-7e09-4abf-b86e-6c61aec2bac8",
   "metadata": {},
   "outputs": [
    {
     "data": {
      "text/plain": [
       "['encoded_columns.pkl']"
      ]
     },
     "execution_count": 15,
     "metadata": {},
     "output_type": "execute_result"
    }
   ],
   "source": [
    "# Save column names for encoding\n",
    "encoded_columns = list(X_encoded.columns)\n",
    "joblib.dump(encoded_columns, 'encoded_columns.pkl')"
   ]
  },
  {
   "cell_type": "code",
   "execution_count": null,
   "id": "37e41f56-09ea-4606-839c-ef154e0ee26b",
   "metadata": {},
   "outputs": [],
   "source": []
  }
 ],
 "metadata": {
  "kernelspec": {
   "display_name": "Python 3 (ipykernel)",
   "language": "python",
   "name": "python3"
  },
  "language_info": {
   "codemirror_mode": {
    "name": "ipython",
    "version": 3
   },
   "file_extension": ".py",
   "mimetype": "text/x-python",
   "name": "python",
   "nbconvert_exporter": "python",
   "pygments_lexer": "ipython3",
   "version": "3.12.4"
  }
 },
 "nbformat": 4,
 "nbformat_minor": 5
}
